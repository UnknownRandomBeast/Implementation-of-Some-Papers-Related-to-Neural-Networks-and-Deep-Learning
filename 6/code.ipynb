{
 "cells": [
  {
   "cell_type": "markdown",
   "metadata": {},
   "source": [
    "# Classifying Persian Tweets Emotion Using CNN-LSTM Model"
   ]
  },
  {
   "cell_type": "markdown",
   "metadata": {},
   "source": [
    "**Table of contents**<a id='toc0_'></a>    \n",
    "- [Import Libraries](#toc1_)    \n",
    "- [Loading and Preparing Data](#toc2_)    \n",
    "- [Visualizing Data Count](#toc3_)    \n",
    "- [Preprocessing](#toc4_)    \n",
    "  - [Checking Each Step](#toc4_1_)    \n",
    "    - [Removing All HTML and URLS](#toc4_1_1_)    \n",
    "    - [Removing Repetitive Characters in A Word](#toc4_1_2_)    \n",
    "    - [Removing Stopwords](#toc4_1_3_)    \n",
    "    - [Replacing Emojis with Their Textual Equivalents](#toc4_1_4_)    \n",
    "    - [Spell Correction](#toc4_1_5_)    \n",
    "    - [Stemming](#toc4_1_6_)    \n",
    "  - [Wrap Up](#toc4_2_)    \n",
    "  - [Saving the Preprocessed Data](#toc4_3_)    \n",
    "  - [Loading the Preprocessed Data](#toc4_4_)    \n",
    "- [Configuration](#toc5_)    \n",
    "  - [Labels Extraction and Management](#toc5_1_)    \n",
    "- [Feature Representation](#toc6_)    \n",
    "  - [Tokenizing Using ParsBERT](#toc6_1_)    \n",
    "    - [Tokenizing A Sample Tweet](#toc6_1_1_)    \n",
    "    - [Tokenizing All Tweets](#toc6_1_2_)    \n",
    "    - [Converting Tokens to Numerical Ids with Padding](#toc6_1_3_)    \n",
    "  - [Embedding Using ParsBERT](#toc6_2_)    \n",
    "    - [Default Embedding Vector Size](#toc6_2_1_)    \n",
    "    - [Loading the Model and Adjusting the Embedding Vector Size](#toc6_2_2_)    \n",
    "- [Splitting into Train, Validation, and Test](#toc7_)    \n",
    "- [Models Architecture](#toc8_)    \n",
    "  - [CNN-LSTM](#toc8_1_)    \n",
    "  - [CNN](#toc8_2_)    \n",
    "  - [LSTM](#toc8_3_)    \n",
    "- [Greed Search for Hyperparameters Tunning](#toc9_)    \n",
    "- [Training All Models](#toc10_)    \n",
    "  - [CNN-LSTM](#toc10_1_)    \n",
    "  - [CNN](#toc10_2_)    \n",
    "  - [LSTM](#toc10_3_)    \n",
    "  - [Learning Curve Visualization](#toc10_4_)    \n",
    "    - [CNN-LSTM](#toc10_4_1_)    \n",
    "    - [CNN](#toc10_4_2_)    \n",
    "    - [LSTM](#toc10_4_3_)    \n",
    "- [Evaluation](#toc11_)    \n",
    "\n",
    "<!-- vscode-jupyter-toc-config\n",
    "\tnumbering=false\n",
    "\tanchor=true\n",
    "\tflat=false\n",
    "\tminLevel=1\n",
    "\tmaxLevel=6\n",
    "\t/vscode-jupyter-toc-config -->\n",
    "<!-- THIS CELL WILL BE REPLACED ON TOC UPDATE. DO NOT WRITE YOUR TEXT IN THIS CELL -->"
   ]
  },
  {
   "cell_type": "markdown",
   "metadata": {},
   "source": [
    "# <a id='toc1_'></a>[Import Libraries](#toc0_)"
   ]
  },
  {
   "cell_type": "code",
   "execution_count": 86,
   "metadata": {},
   "outputs": [],
   "source": [
    "import pandas as pd\n",
    "import os\n",
    "import matplotlib.pyplot as plt\n",
    "import seaborn as sns\n",
    "import re\n",
    "from farsi_tools import stop_words\n",
    "import emoji\n",
    "from hazm import Stemmer\n",
    "from parsivar import SpellCheck\n",
    "from transformers import AutoConfig, AutoTokenizer, AutoModel\n",
    "import torch\n",
    "import torch.nn as nn\n",
    "import gc\n",
    "from sklearn.model_selection import train_test_split\n",
    "from torch.optim import Adam, SGD\n",
    "from torch.nn import CrossEntropyLoss\n",
    "from sklearn.metrics import accuracy_score\n",
    "from sklearn.metrics import classification_report\n",
    "from tabulate import tabulate"
   ]
  },
  {
   "cell_type": "code",
   "execution_count": 2,
   "metadata": {},
   "outputs": [],
   "source": [
    "DATA_PATH='Q1-Data/'\n",
    "PREPROC_DATA_PATH='preprocessed_tweets.csv'"
   ]
  },
  {
   "cell_type": "markdown",
   "metadata": {},
   "source": [
    "# <a id='toc2_'></a>[Loading and Preparing Data](#toc0_)"
   ]
  },
  {
   "cell_type": "code",
   "execution_count": 3,
   "metadata": {},
   "outputs": [],
   "source": [
    "dataframes = []\n",
    "\n",
    "for filename in os.listdir(DATA_PATH):\n",
    "    if filename.endswith('.csv'):\n",
    "        dataframe = pd.read_csv(os.path.join(DATA_PATH, filename))\n",
    "        \n",
    "        dataframe = dataframe[['tweet']].copy()\n",
    "        dataframe['emotion'] = filename[:-4]\n",
    "        \n",
    "        dataframes.append(dataframe)\n",
    "\n",
    "combined_df = pd.concat(dataframes, ignore_index=True)"
   ]
  },
  {
   "cell_type": "code",
   "execution_count": 4,
   "metadata": {},
   "outputs": [
    {
     "data": {
      "text/html": [
       "<div>\n",
       "<style scoped>\n",
       "    .dataframe tbody tr th:only-of-type {\n",
       "        vertical-align: middle;\n",
       "    }\n",
       "\n",
       "    .dataframe tbody tr th {\n",
       "        vertical-align: top;\n",
       "    }\n",
       "\n",
       "    .dataframe thead th {\n",
       "        text-align: right;\n",
       "    }\n",
       "</style>\n",
       "<table border=\"1\" class=\"dataframe\">\n",
       "  <thead>\n",
       "    <tr style=\"text-align: right;\">\n",
       "      <th></th>\n",
       "      <th>tweet</th>\n",
       "      <th>emotion</th>\n",
       "    </tr>\n",
       "  </thead>\n",
       "  <tbody>\n",
       "    <tr>\n",
       "      <th>0</th>\n",
       "      <td>ــــــــــــ\\nكرمهاي ساقه خوار\\nبه جان ريشههاي...</td>\n",
       "      <td>joy</td>\n",
       "    </tr>\n",
       "    <tr>\n",
       "      <th>1</th>\n",
       "      <td>كرمهاي ساقه خوار\\nبه جان ريشههاي انقلاب و نظام...</td>\n",
       "      <td>joy</td>\n",
       "    </tr>\n",
       "    <tr>\n",
       "      <th>2</th>\n",
       "      <td>انتخابات، واجبی هست\\nکه اگر غفلت شود فرصتی برا...</td>\n",
       "      <td>joy</td>\n",
       "    </tr>\n",
       "    <tr>\n",
       "      <th>3</th>\n",
       "      <td>ــــــــــــ👌🤞\\nكرمهاي ساقه خوار\\nبه جان ريشهه...</td>\n",
       "      <td>joy</td>\n",
       "    </tr>\n",
       "    <tr>\n",
       "      <th>4</th>\n",
       "      <td>كرمهاي ساقه خوار\\nبه جان ريشههاي انقلاب و نظام...</td>\n",
       "      <td>joy</td>\n",
       "    </tr>\n",
       "    <tr>\n",
       "      <th>...</th>\n",
       "      <td>...</td>\n",
       "      <td>...</td>\n",
       "    </tr>\n",
       "    <tr>\n",
       "      <th>113824</th>\n",
       "      <td>پرخاشگری پلیس #افغانستان؛ نیروی غیرحرفه‌ای یا ...</td>\n",
       "      <td>anger</td>\n",
       "    </tr>\n",
       "    <tr>\n",
       "      <th>113825</th>\n",
       "      <td>فروید می‌گوید: «تمدن از آنجا آغاز شد که انسان ...</td>\n",
       "      <td>anger</td>\n",
       "    </tr>\n",
       "    <tr>\n",
       "      <th>113826</th>\n",
       "      <td>#رشتو\\n۱) صبح امروز(۰۰/۰۱/۱۵) راننده خطی ایستگ...</td>\n",
       "      <td>anger</td>\n",
       "    </tr>\n",
       "    <tr>\n",
       "      <th>113827</th>\n",
       "      <td>وقتی میگیم #پالانفارسیسم ملقمه بیشعوری فروما...</td>\n",
       "      <td>anger</td>\n",
       "    </tr>\n",
       "    <tr>\n",
       "      <th>113828</th>\n",
       "      <td>یکی از مهم ترین مزیت های #كلاب_هاوس آشکارتر کر...</td>\n",
       "      <td>anger</td>\n",
       "    </tr>\n",
       "  </tbody>\n",
       "</table>\n",
       "<p>113829 rows × 2 columns</p>\n",
       "</div>"
      ],
      "text/plain": [
       "                                                    tweet emotion\n",
       "0       ــــــــــــ\\nكرمهاي ساقه خوار\\nبه جان ريشههاي...     joy\n",
       "1       كرمهاي ساقه خوار\\nبه جان ريشههاي انقلاب و نظام...     joy\n",
       "2       انتخابات، واجبی هست\\nکه اگر غفلت شود فرصتی برا...     joy\n",
       "3       ــــــــــــ👌🤞\\nكرمهاي ساقه خوار\\nبه جان ريشهه...     joy\n",
       "4       كرمهاي ساقه خوار\\nبه جان ريشههاي انقلاب و نظام...     joy\n",
       "...                                                   ...     ...\n",
       "113824  پرخاشگری پلیس #افغانستان؛ نیروی غیرحرفه‌ای یا ...   anger\n",
       "113825  فروید می‌گوید: «تمدن از آنجا آغاز شد که انسان ...   anger\n",
       "113826  #رشتو\\n۱) صبح امروز(۰۰/۰۱/۱۵) راننده خطی ایستگ...   anger\n",
       "113827    وقتی میگیم #پالانفارسیسم ملقمه بیشعوری فروما...   anger\n",
       "113828  یکی از مهم ترین مزیت های #كلاب_هاوس آشکارتر کر...   anger\n",
       "\n",
       "[113829 rows x 2 columns]"
      ]
     },
     "execution_count": 4,
     "metadata": {},
     "output_type": "execute_result"
    }
   ],
   "source": [
    "combined_df"
   ]
  },
  {
   "cell_type": "markdown",
   "metadata": {},
   "source": [
    "# <a id='toc3_'></a>[Visualizing Data Count](#toc0_)"
   ]
  },
  {
   "cell_type": "code",
   "execution_count": 5,
   "metadata": {},
   "outputs": [
    {
     "name": "stderr",
     "output_type": "stream",
     "text": [
      "/tmp/ipykernel_9799/163428217.py:4: FutureWarning: \n",
      "\n",
      "Passing `palette` without assigning `hue` is deprecated and will be removed in v0.14.0. Assign the `x` variable to `hue` and set `legend=False` for the same effect.\n",
      "\n",
      "  ax = sns.countplot(x='emotion', data=combined_df, palette=\"pastel\")\n"
     ]
    },
    {
     "data": {
      "image/png": "[encoded data removed]",
      "text/plain": [
       "<Figure size 720x432 with 1 Axes>"
      ]
     },
     "metadata": {},
     "output_type": "display_data"
    }
   ],
   "source": [
    "sns.set(style=\"whitegrid\")\n",
    "\n",
    "plt.figure(figsize=(10,6))\n",
    "ax = sns.countplot(x='emotion', data=combined_df, palette=\"pastel\")\n",
    "\n",
    "plt.title('Emotion Counts', fontsize=20)\n",
    "plt.xlabel('Emotion', fontsize=15)\n",
    "plt.ylabel('Count', fontsize=15)\n",
    "\n",
    "plt.show()"
   ]
  },
  {
   "cell_type": "markdown",
   "metadata": {},
   "source": [
    "# <a id='toc4_'></a>[Preprocessing](#toc0_)"
   ]
  },
  {
   "cell_type": "markdown",
   "metadata": {},
   "source": [
    "## <a id='toc4_1_'></a>[Checking Each Step](#toc0_)"
   ]
  },
  {
   "cell_type": "code",
   "execution_count": 6,
   "metadata": {},
   "outputs": [],
   "source": [
    "sample_tweet = 'برای تمرین بیشتر برنامه‌نیوسی به صورت پروژه‌محور می‌توانید به این لینک (https://github.com/) مراجعه کنید. اینجا می‌تووونیددد پروژه‌های خودتوووون رو بذارین و مال بقیه رو هم ببینید 🎉🌟🔥'"
   ]
  },
  {
   "cell_type": "code",
   "execution_count": 7,
   "metadata": {},
   "outputs": [
    {
     "data": {
      "text/plain": [
       "'برای تمرین بیشتر برنامه\\u200cنیوسی به صورت پروژه\\u200cمحور می\\u200cتوانید به این لینک (https://github.com/) مراجعه کنید. اینجا می\\u200cتووونیددد پروژه\\u200cهای خودتوووون رو بذارین و مال بقیه رو هم ببینید 🎉🌟🔥'"
      ]
     },
     "execution_count": 7,
     "metadata": {},
     "output_type": "execute_result"
    }
   ],
   "source": [
    "sample_tweet"
   ]
  },
  {
   "cell_type": "markdown",
   "metadata": {},
   "source": [
    "### <a id='toc4_1_1_'></a>[Removing All HTML and URLS](#toc0_)"
   ]
  },
  {
   "cell_type": "code",
   "execution_count": 8,
   "metadata": {},
   "outputs": [
    {
     "name": "stdout",
     "output_type": "stream",
     "text": [
      "Original tweet\n",
      ": برای تمرین بیشتر برنامه‌نیوسی به صورت پروژه‌محور می‌توانید به این لینک (https://github.com/) مراجعه کنید. اینجا می‌تووونیددد پروژه‌های خودتوووون رو بذارین و مال بقیه رو هم ببینید 🎉🌟🔥\n",
      "\n",
      "Cleaned tweet\n",
      ": برای تمرین بیشتر برنامه‌نیوسی به صورت پروژه‌محور می‌توانید به این لینک ( مراجعه کنید. اینجا می‌تووونیددد پروژه‌های خودتوووون رو بذارین و مال بقیه رو هم ببینید 🎉🌟🔥\n"
     ]
    }
   ],
   "source": [
    "cleaned_tweet = re.sub(r'<[^<>]*>', '', sample_tweet)\n",
    "\n",
    "cleaned_tweet = re.sub(r'http\\S+', '', cleaned_tweet)\n",
    "\n",
    "print(f\"Original tweet\\n: {sample_tweet}\")\n",
    "print(f\"\\nCleaned tweet\\n: {cleaned_tweet}\")"
   ]
  },
  {
   "cell_type": "markdown",
   "metadata": {},
   "source": [
    "### <a id='toc4_1_2_'></a>[Removing Repetitive Characters in A Word](#toc0_)"
   ]
  },
  {
   "cell_type": "code",
   "execution_count": 9,
   "metadata": {},
   "outputs": [
    {
     "name": "stdout",
     "output_type": "stream",
     "text": [
      "Original tweet\n",
      ": برای تمرین بیشتر برنامه‌نیوسی به صورت پروژه‌محور می‌توانید به این لینک (https://github.com/) مراجعه کنید. اینجا می‌تووونیددد پروژه‌های خودتوووون رو بذارین و مال بقیه رو هم ببینید 🎉🌟🔥\n",
      "\n",
      "Cleaned tweet\n",
      ": برای تمرین بیشتر برنامه‌نیوسی به صورت پروژه‌محور می‌توانید به این لینک (htps:/github.com/) مراجعه کنید. اینجا می‌تونید پروژه‌های خودتون رو بذارین و مال بقیه رو هم بینید 🎉🌟🔥\n"
     ]
    }
   ],
   "source": [
    "def remove_repetitive_characters(tweet):\n",
    "    words = tweet.split()\n",
    "\n",
    "    cleaned_words = []\n",
    "\n",
    "    for word in words:\n",
    "        cleaned_word = re.sub(r'(.)\\1+', r'\\1', word)\n",
    "        cleaned_words.append(cleaned_word)\n",
    "\n",
    "    cleaned_tweet = ' '.join(cleaned_words)\n",
    "    return cleaned_tweet\n",
    "\n",
    "\n",
    "cleaned_tweet = remove_repetitive_characters(sample_tweet)\n",
    "\n",
    "print(f\"Original tweet\\n: {sample_tweet}\")\n",
    "print(f\"\\nCleaned tweet\\n: {cleaned_tweet}\")"
   ]
  },
  {
   "cell_type": "markdown",
   "metadata": {},
   "source": [
    "### <a id='toc4_1_3_'></a>[Removing Stopwords](#toc0_)"
   ]
  },
  {
   "cell_type": "code",
   "execution_count": 10,
   "metadata": {},
   "outputs": [],
   "source": [
    "persian_sw = stop_words()"
   ]
  },
  {
   "cell_type": "code",
   "execution_count": 11,
   "metadata": {},
   "outputs": [
    {
     "data": {
      "text/plain": [
       "['!',\n",
       " '\"',\n",
       " '#',\n",
       " ',',\n",
       " '-',\n",
       " '/',\n",
       " ':',\n",
       " '«',\n",
       " '»',\n",
       " '،',\n",
       " '؛',\n",
       " '؟',\n",
       " '۰',\n",
       " '۱',\n",
       " '۲',\n",
       " '۳',\n",
       " '۴',\n",
       " '۵',\n",
       " '۶',\n",
       " '۷',\n",
       " '۸',\n",
       " '۹',\n",
       " '…',\n",
       " '$',\n",
       " '!',\n",
       " ',',\n",
       " ':',\n",
       " ';',\n",
       " '،',\n",
       " '؛',\n",
       " '؟',\n",
       " 'آباد',\n",
       " 'آره',\n",
       " 'آری',\n",
       " 'آمد',\n",
       " 'آمده',\n",
       " 'آن',\n",
       " 'آنان',\n",
       " 'آنجا',\n",
       " 'آنطور',\n",
       " 'آنقدر',\n",
       " 'آنکه',\n",
       " 'آنها',\n",
       " 'آنچه',\n",
       " 'آنکه',\n",
       " 'آورد',\n",
       " 'آورده',\n",
       " 'آید',\n",
       " 'آی',\n",
       " 'آیا',\n",
       " 'آیند',\n",
       " 'اتفاقا',\n",
       " 'اثر',\n",
       " 'احتراما',\n",
       " 'احتمالا',\n",
       " 'اخیر',\n",
       " 'اری',\n",
       " 'از',\n",
       " 'ازجمله',\n",
       " 'اساسا',\n",
       " 'است',\n",
       " 'استفاد',\n",
       " 'استفاده',\n",
       " 'اش',\n",
       " 'اشکارا',\n",
       " 'اصلا',\n",
       " 'اصولا',\n",
       " 'اعلام',\n",
       " 'اغلب',\n",
       " 'اکنون',\n",
       " 'الان',\n",
       " 'البته',\n",
       " 'البتّه',\n",
       " 'ام',\n",
       " 'اما',\n",
       " 'امروز',\n",
       " 'امروزه',\n",
       " 'امسال',\n",
       " 'امشب',\n",
       " 'امور',\n",
       " 'ان',\n",
       " 'انجام',\n",
       " 'اند',\n",
       " 'انشاالله',\n",
       " 'انصافا',\n",
       " 'انطور',\n",
       " 'انقدر',\n",
       " 'انها',\n",
       " 'انچنان',\n",
       " 'انکه',\n",
       " 'انگار',\n",
       " 'او',\n",
       " 'اول',\n",
       " 'اولا',\n",
       " 'ای',\n",
       " 'ایشان',\n",
       " 'ایم',\n",
       " 'این',\n",
       " 'اینکه',\n",
       " 'اکثرا',\n",
       " 'اکنون',\n",
       " 'اگر',\n",
       " 'ای',\n",
       " 'ایا',\n",
       " 'اید',\n",
       " 'ایشان',\n",
       " 'ایم',\n",
       " 'این',\n",
       " 'اینجا',\n",
       " 'ایند',\n",
       " 'اینطور',\n",
       " 'اینقدر',\n",
       " 'اینها',\n",
       " 'اینچنین',\n",
       " 'اینک',\n",
       " 'اینکه',\n",
       " 'اینگونه',\n",
       " 'با',\n",
       " 'بار',\n",
       " 'بارة',\n",
       " 'باره',\n",
       " 'بارها',\n",
       " 'باز',\n",
       " 'بازهم',\n",
       " 'باش',\n",
       " 'باشد',\n",
       " 'باشم',\n",
       " 'باشند',\n",
       " 'باشیم',\n",
       " 'باشی',\n",
       " 'باشید',\n",
       " 'باشیم',\n",
       " 'بالا',\n",
       " 'بالاخره',\n",
       " 'بالای',\n",
       " 'بالطبع',\n",
       " 'باید',\n",
       " 'باید',\n",
       " 'بتوان',\n",
       " 'بتواند',\n",
       " 'بتوانی',\n",
       " 'بتوانیم',\n",
       " 'بخش',\n",
       " 'بخشی',\n",
       " 'بخواه',\n",
       " 'بخواهد',\n",
       " 'بخواهم',\n",
       " 'بخواهند',\n",
       " 'بخواهی',\n",
       " 'بخواهید',\n",
       " 'بخواهیم',\n",
       " 'بد',\n",
       " 'بدون',\n",
       " 'بر',\n",
       " 'برابر',\n",
       " 'برابر',\n",
       " 'براحتی',\n",
       " 'براساس',\n",
       " 'براستی',\n",
       " 'برای',\n",
       " 'برای',\n",
       " 'برای',\n",
       " 'برخوردار',\n",
       " 'برخی',\n",
       " 'برخی',\n",
       " 'برداری',\n",
       " 'برعکس',\n",
       " 'بروز',\n",
       " 'بزرگ',\n",
       " 'بزودی',\n",
       " 'بسا',\n",
       " 'بسیار',\n",
       " 'بسیاری',\n",
       " 'بسیار',\n",
       " 'بسیاری',\n",
       " 'بطور',\n",
       " 'بعد',\n",
       " 'بعدا',\n",
       " 'بعدها',\n",
       " 'بعری',\n",
       " 'بعضا',\n",
       " 'بعضی',\n",
       " 'بلافاصله',\n",
       " 'بلکه',\n",
       " 'بله',\n",
       " 'بلکه',\n",
       " 'بلی',\n",
       " 'بنابراین',\n",
       " 'بنابراین',\n",
       " 'بندی',\n",
       " 'به',\n",
       " 'بهتر',\n",
       " 'بهترین',\n",
       " 'بود',\n",
       " 'بودم',\n",
       " 'بودن',\n",
       " 'بودند',\n",
       " 'بوده',\n",
       " 'بودی',\n",
       " 'بودید',\n",
       " 'بودیم',\n",
       " 'بویژه',\n",
       " 'بی',\n",
       " 'بیست',\n",
       " 'بیش',\n",
       " 'بیشتر',\n",
       " 'بیشتری',\n",
       " 'بین',\n",
       " 'بکن',\n",
       " 'بکند',\n",
       " 'بکنم',\n",
       " 'بکنند',\n",
       " 'بکنی',\n",
       " 'بکنید',\n",
       " 'بکنیم',\n",
       " 'بگو',\n",
       " 'بگوید',\n",
       " 'بگویم',\n",
       " 'بگویند',\n",
       " 'بگویی',\n",
       " 'بگویید',\n",
       " 'بگوییم',\n",
       " 'بگیر',\n",
       " 'بگیرد',\n",
       " 'بگیرم',\n",
       " 'بگیرند',\n",
       " 'بگیری',\n",
       " 'بگیرید',\n",
       " 'بگیریم',\n",
       " 'بی',\n",
       " 'بیا',\n",
       " 'بیاب',\n",
       " 'بیابد',\n",
       " 'بیابم',\n",
       " 'بیابند',\n",
       " 'بیابی',\n",
       " 'بیابید',\n",
       " 'بیابیم',\n",
       " 'بیاور',\n",
       " 'بیاورد',\n",
       " 'بیاورم',\n",
       " 'بیاورند',\n",
       " 'بیاوری',\n",
       " 'بیاورید',\n",
       " 'بیاوریم',\n",
       " 'بیاید',\n",
       " 'بیایم',\n",
       " 'بیایند',\n",
       " 'بیایی',\n",
       " 'بیایید',\n",
       " 'بیاییم',\n",
       " 'بیرون',\n",
       " 'بیرون',\n",
       " 'بیش',\n",
       " 'بیشتر',\n",
       " 'بیشتری',\n",
       " 'بین',\n",
       " 'ت',\n",
       " 'تا',\n",
       " 'تازه',\n",
       " 'تاکنون',\n",
       " 'تان',\n",
       " 'تاکنون',\n",
       " 'تحت',\n",
       " 'تر',\n",
       " 'تر  براساس',\n",
       " 'ترین',\n",
       " 'تقریبا',\n",
       " 'تلویحا',\n",
       " 'تمام',\n",
       " 'تماما',\n",
       " 'تمامی',\n",
       " 'تنها',\n",
       " 'تو',\n",
       " 'تواند',\n",
       " 'توانست',\n",
       " 'توانستم',\n",
       " 'توانستن',\n",
       " 'توانستند',\n",
       " 'توانسته',\n",
       " 'توانستی',\n",
       " 'توانستیم',\n",
       " 'توانم',\n",
       " 'توانند',\n",
       " 'توانی',\n",
       " 'توانید',\n",
       " 'توانیم',\n",
       " 'توسط',\n",
       " 'تول',\n",
       " 'توی',\n",
       " 'ثانیا',\n",
       " 'جا',\n",
       " 'جای',\n",
       " 'جایی',\n",
       " 'جای',\n",
       " 'جدا',\n",
       " 'جدید',\n",
       " 'جدید',\n",
       " 'جریان',\n",
       " 'جریان',\n",
       " 'جز',\n",
       " 'جلوگیری',\n",
       " 'جلوی',\n",
       " 'جمعا',\n",
       " 'جناح',\n",
       " 'جهت',\n",
       " 'حاضر',\n",
       " 'حال',\n",
       " 'حالا',\n",
       " 'حتما',\n",
       " 'حتی',\n",
       " 'حتی',\n",
       " 'حداکثر',\n",
       " 'حدودا',\n",
       " 'حدود',\n",
       " 'حق',\n",
       " 'خارج',\n",
       " 'خدمات',\n",
       " 'خصوصا',\n",
       " 'خلاصه',\n",
       " 'خواست',\n",
       " 'خواستم',\n",
       " 'خواستن',\n",
       " 'خواستند',\n",
       " 'خواسته',\n",
       " 'خواستی',\n",
       " 'خواستید',\n",
       " 'خواستیم',\n",
       " 'خواهد',\n",
       " 'خواهم',\n",
       " 'خواهند',\n",
       " 'خواهیم',\n",
       " 'خواهی',\n",
       " 'خواهید',\n",
       " 'خواهیم',\n",
       " 'خوب',\n",
       " 'خود',\n",
       " 'خودت',\n",
       " 'خودتان',\n",
       " 'خودش',\n",
       " 'خودشان',\n",
       " 'خودم',\n",
       " 'خودمان',\n",
       " 'خوشبختانه',\n",
       " 'خویش',\n",
       " 'خویش',\n",
       " 'خویشتن',\n",
       " 'خیاه',\n",
       " 'خیر',\n",
       " 'خیلی',\n",
       " 'داد',\n",
       " 'دادم',\n",
       " 'دادن',\n",
       " 'دادند',\n",
       " 'داده',\n",
       " 'دادی',\n",
       " 'دادید',\n",
       " 'دادیم',\n",
       " 'دار',\n",
       " 'دارد',\n",
       " 'دارم',\n",
       " 'دارند',\n",
       " 'داریم',\n",
       " 'داری',\n",
       " 'دارید',\n",
       " 'داریم',\n",
       " 'داشت',\n",
       " 'داشتم',\n",
       " 'داشتن',\n",
       " 'داشتند',\n",
       " 'داشته',\n",
       " 'داشتی',\n",
       " 'داشتید',\n",
       " 'داشتیم',\n",
       " 'دانست',\n",
       " 'دانند',\n",
       " 'دایم',\n",
       " 'دایما',\n",
       " 'در',\n",
       " 'درباره',\n",
       " 'درمجموع',\n",
       " 'درون',\n",
       " 'دریغ',\n",
       " 'دقیقا',\n",
       " 'دنبال',\n",
       " 'ده',\n",
       " 'دهد',\n",
       " 'دهم',\n",
       " 'دهند',\n",
       " 'دهی',\n",
       " 'دهید',\n",
       " 'دهیم',\n",
       " 'دو',\n",
       " 'دوباره',\n",
       " 'دوم',\n",
       " 'دیده',\n",
       " 'دیروز',\n",
       " 'دیگر',\n",
       " 'دیگران',\n",
       " 'دیگری',\n",
       " 'دیر',\n",
       " 'دیروز',\n",
       " 'دیگر',\n",
       " 'دیگران',\n",
       " 'دیگری',\n",
       " 'را',\n",
       " 'راحت',\n",
       " 'راسا',\n",
       " 'راستی',\n",
       " 'راه',\n",
       " 'رسما',\n",
       " 'رسید',\n",
       " 'رفت',\n",
       " 'رفته',\n",
       " 'رو',\n",
       " 'روب',\n",
       " 'روز',\n",
       " 'روزانه',\n",
       " 'روزهای',\n",
       " 'روی',\n",
       " 'روی',\n",
       " 'روی',\n",
       " 'ریزی',\n",
       " 'زمان',\n",
       " 'زمانی',\n",
       " 'زمینه',\n",
       " 'زود',\n",
       " 'زیاد',\n",
       " 'زیر',\n",
       " 'زیرا',\n",
       " 'زیر',\n",
       " 'زیر',\n",
       " 'سابق',\n",
       " 'ساخته',\n",
       " 'سازی',\n",
       " 'سالانه',\n",
       " 'سالیانه',\n",
       " 'سایر',\n",
       " 'سراسر',\n",
       " 'سرانجام',\n",
       " 'سریعا',\n",
       " 'سری',\n",
       " 'سعی',\n",
       " 'سمت',\n",
       " 'سوم',\n",
       " 'سوی',\n",
       " 'سوی',\n",
       " 'سپس',\n",
       " 'شان',\n",
       " 'شاید',\n",
       " 'شاید',\n",
       " 'شخصا',\n",
       " 'شد',\n",
       " 'شدم',\n",
       " 'شدن',\n",
       " 'شدند',\n",
       " 'شده',\n",
       " 'شدی',\n",
       " 'شدید',\n",
       " 'شدیدا',\n",
       " 'شدیم',\n",
       " 'شش',\n",
       " 'شش  نداشته',\n",
       " 'شما',\n",
       " 'شناسی',\n",
       " 'شود',\n",
       " 'شوم',\n",
       " 'شوند',\n",
       " 'شونده',\n",
       " 'شوی',\n",
       " 'شوید',\n",
       " 'شویم',\n",
       " 'صرفا',\n",
       " 'صورت',\n",
       " 'ضد',\n",
       " 'ضمن',\n",
       " 'طبعا',\n",
       " 'طبق',\n",
       " 'طبیعتا',\n",
       " 'طرف',\n",
       " 'طریق',\n",
       " 'طریق',\n",
       " 'طور',\n",
       " 'طی',\n",
       " 'طی',\n",
       " 'ظاهرا',\n",
       " 'عدم',\n",
       " 'عقب',\n",
       " 'علّت',\n",
       " 'علیه',\n",
       " 'عمدا',\n",
       " 'عمدتا',\n",
       " 'عمل',\n",
       " 'عملا',\n",
       " 'عنوان',\n",
       " 'عنوان',\n",
       " 'غالبا',\n",
       " 'غیر',\n",
       " 'غیر',\n",
       " 'فردا',\n",
       " 'فعلا',\n",
       " 'فقط',\n",
       " 'فکر',\n",
       " 'فوق',\n",
       " 'قابل',\n",
       " 'قبل',\n",
       " 'قبلا',\n",
       " 'قدری',\n",
       " 'قصد',\n",
       " 'قطعا',\n",
       " 'کرد',\n",
       " 'کردم',\n",
       " 'کردن',\n",
       " 'کردند',\n",
       " 'کرده',\n",
       " 'کسی',\n",
       " 'کل',\n",
       " 'کمتر',\n",
       " 'کند',\n",
       " 'کنم',\n",
       " 'کنند',\n",
       " 'کنید',\n",
       " 'کنیم',\n",
       " 'که',\n",
       " 'اینم',\n",
       " 'شما',\n",
       " 'لااقل',\n",
       " 'لطفا',\n",
       " 'لطفاً',\n",
       " 'ما',\n",
       " 'مان',\n",
       " 'مانند',\n",
       " 'مانند',\n",
       " 'مبادا',\n",
       " 'متاسفانه',\n",
       " 'متعاقبا',\n",
       " 'مثل',\n",
       " 'مثلا',\n",
       " 'مثل',\n",
       " 'مجانی',\n",
       " 'مجددا',\n",
       " 'مجموعا',\n",
       " 'مختلف',\n",
       " 'مدام',\n",
       " 'مدت',\n",
       " 'مدّتی',\n",
       " 'مردم',\n",
       " 'مرسی',\n",
       " 'مستقیما',\n",
       " 'مسلما',\n",
       " 'مطمینا',\n",
       " 'معمولا',\n",
       " 'مقابل',\n",
       " 'ممکن',\n",
       " 'من',\n",
       " 'موارد',\n",
       " 'مورد',\n",
       " 'موقتا',\n",
       " 'می',\n",
       " 'میلیارد',\n",
       " 'میلیون',\n",
       " 'مگر',\n",
       " 'می',\n",
       " 'می شود',\n",
       " 'میان',\n",
       " 'می\\u200cرسد',\n",
       " 'می\\u200cرود',\n",
       " 'می\\u200cشود',\n",
       " 'می\\u200cکنیم',\n",
       " 'ناشی',\n",
       " 'نام',\n",
       " 'ناگاه',\n",
       " 'ناگهان',\n",
       " 'ناگهانی',\n",
       " 'نباید',\n",
       " 'نباید',\n",
       " 'نبود',\n",
       " 'نخست',\n",
       " 'نخستین',\n",
       " 'نخواهد',\n",
       " 'نخواهم',\n",
       " 'نخواهند',\n",
       " 'نخواهی',\n",
       " 'نخواهید',\n",
       " 'نخواهیم',\n",
       " 'ندارد',\n",
       " 'ندارم',\n",
       " 'ندارند',\n",
       " 'نداری',\n",
       " 'ندارید',\n",
       " 'نداریم',\n",
       " 'نداشت',\n",
       " 'نداشتم',\n",
       " 'نداشتند',\n",
       " 'نداشته',\n",
       " 'نداشتی',\n",
       " 'نداشتید',\n",
       " 'نداشتیم',\n",
       " 'نزدیک',\n",
       " 'نزد',\n",
       " 'نزدیک',\n",
       " 'نسبتا',\n",
       " 'نشان',\n",
       " 'نشده',\n",
       " 'نظیر',\n",
       " 'نظیر',\n",
       " 'نکرده',\n",
       " 'نماید',\n",
       " 'نمی',\n",
       " 'نمی',\n",
       " 'نمی\\u200cشود',\n",
       " 'نه',\n",
       " 'نهایتا',\n",
       " 'نوع',\n",
       " 'نوعی',\n",
       " 'نوعی',\n",
       " 'نیز',\n",
       " 'نیست',\n",
       " 'نگاه',\n",
       " 'نیز',\n",
       " 'نیست',\n",
       " 'ها',\n",
       " 'های',\n",
       " 'هایی',\n",
       " 'های',\n",
       " 'هایی',\n",
       " 'هبچ',\n",
       " 'هر',\n",
       " 'هرچه',\n",
       " 'هرگز',\n",
       " 'هزار',\n",
       " 'هست',\n",
       " 'هستم',\n",
       " 'هستند',\n",
       " 'هستیم',\n",
       " 'هستی',\n",
       " 'هستید',\n",
       " 'هستیم',\n",
       " 'هفت',\n",
       " 'هم',\n",
       " 'همان',\n",
       " 'همه',\n",
       " 'همواره',\n",
       " 'همین',\n",
       " 'همچنان',\n",
       " 'همچنین',\n",
       " 'همچنین',\n",
       " 'همچون',\n",
       " 'همیشه',\n",
       " 'میشه',\n",
       " 'داره',\n",
       " 'میکنن',\n",
       " 'واسه',\n",
       " 'اینه',\n",
       " 'منم',\n",
       " 'منو',\n",
       " 'برم',\n",
       " 'کنن',\n",
       " 'کنم',\n",
       " 'میگه',\n",
       " 'اینا',\n",
       " 'الان',\n",
       " 'الآن',\n",
       " 'میخوام',\n",
       " 'نیس',\n",
       " 'هس',\n",
       " 'ینی',\n",
       " 'دونم',\n",
       " 'رفتم',\n",
       " 'شه',\n",
       " 'شم',\n",
       " 'خوام',\n",
       " 'میاد',\n",
       " 'بشه',\n",
       " 'انقد',\n",
       " 'چقد',\n",
       " 'اصن',\n",
       " 'اصلا',\n",
       " 'حالا',\n",
       " 'میکنه',\n",
       " 'کنه',\n",
       " 'بده',\n",
       " 'باشه',\n",
       " 'ببین',\n",
       " 'همین',\n",
       " 'هنوز',\n",
       " 'هنگام',\n",
       " 'هنگام',\n",
       " 'هنگامی',\n",
       " 'هیچ',\n",
       " 'هیچ',\n",
       " 'هیچگاه',\n",
       " 'و',\n",
       " 'واقعا',\n",
       " 'واقعی',\n",
       " 'وجود',\n",
       " 'وسط',\n",
       " 'وضع',\n",
       " 'وقتی',\n",
       " 'وقتی',\n",
       " 'وقتیکه',\n",
       " 'ولی',\n",
       " 'وی',\n",
       " 'وگو',\n",
       " 'وی',\n",
       " 'ویژه',\n",
       " 'یا',\n",
       " 'یابد',\n",
       " 'یک',\n",
       " 'یکدیگر',\n",
       " 'یکی',\n",
       " 'ّه',\n",
       " '٪',\n",
       " 'پارسال',\n",
       " 'پاعین',\n",
       " 'پس',\n",
       " 'پنج',\n",
       " 'پیش',\n",
       " 'پیدا',\n",
       " 'پیش',\n",
       " 'پیشاپیش',\n",
       " 'پیشتر',\n",
       " 'پیش',\n",
       " 'چرا',\n",
       " 'چطور',\n",
       " 'چقدر',\n",
       " 'همینقدر',\n",
       " 'ندین',\n",
       " 'نوشتم',\n",
       " 'افتادم',\n",
       " 'چنان',\n",
       " 'چنانچه',\n",
       " 'چنانکه',\n",
       " 'چند',\n",
       " 'چندین',\n",
       " 'چنین',\n",
       " 'چنین',\n",
       " 'چه',\n",
       " 'چهار',\n",
       " 'چو',\n",
       " 'چون',\n",
       " 'چیزی',\n",
       " 'چگونه',\n",
       " 'چیز',\n",
       " 'چیزی',\n",
       " 'چیست',\n",
       " 'کاش',\n",
       " 'کامل',\n",
       " 'کاملا',\n",
       " 'کتبا',\n",
       " 'کجا',\n",
       " 'کجاست',\n",
       " 'کدام',\n",
       " 'کرد',\n",
       " 'کردم',\n",
       " 'کردن',\n",
       " 'کردند',\n",
       " 'کرده',\n",
       " 'کردی',\n",
       " 'کردید',\n",
       " 'کردیم',\n",
       " 'کس',\n",
       " 'کسانی',\n",
       " 'کسی',\n",
       " 'کل',\n",
       " 'کلا',\n",
       " 'کم',\n",
       " 'کماکان',\n",
       " 'کمتر',\n",
       " 'کمتری',\n",
       " 'کمی',\n",
       " 'کن',\n",
       " 'کنار',\n",
       " 'کنار',\n",
       " 'کند',\n",
       " 'کنم',\n",
       " 'کنند',\n",
       " 'کننده',\n",
       " 'کنون',\n",
       " 'کنونی',\n",
       " 'کنی',\n",
       " 'کنید',\n",
       " 'کنیم',\n",
       " 'که',\n",
       " 'کو',\n",
       " 'کَی',\n",
       " 'کی',\n",
       " 'گاه',\n",
       " 'گاهی',\n",
       " 'گذاری',\n",
       " 'گذاشته',\n",
       " 'گذشته',\n",
       " 'گردد',\n",
       " 'گرفت',\n",
       " 'گرفتم',\n",
       " 'گرفتن',\n",
       " 'گرفتند',\n",
       " 'گرفته',\n",
       " 'گرفتی',\n",
       " 'گرفتید',\n",
       " 'گرفتیم',\n",
       " 'گروهی',\n",
       " 'گفت',\n",
       " 'گفتم',\n",
       " 'گفتن',\n",
       " 'گفتند',\n",
       " 'گفته',\n",
       " 'گفتی',\n",
       " 'گفتید',\n",
       " 'گفتیم',\n",
       " 'گه',\n",
       " 'گهگاه',\n",
       " 'گو',\n",
       " 'گوید',\n",
       " 'گویند',\n",
       " 'گویا',\n",
       " 'گوید',\n",
       " 'گویم',\n",
       " 'گویند',\n",
       " 'گویی',\n",
       " 'گویید',\n",
       " 'گوییم',\n",
       " 'گیرد',\n",
       " 'گیری',\n",
       " 'گیرد',\n",
       " 'گیرم',\n",
       " 'گیرند',\n",
       " 'گیری',\n",
       " 'گیرید',\n",
       " 'گیریم',\n",
       " 'ی',\n",
       " 'یا',\n",
       " 'یابد',\n",
       " 'یابم',\n",
       " 'یابند',\n",
       " 'یابی',\n",
       " 'یابید',\n",
       " 'یابیم',\n",
       " 'یافت',\n",
       " 'یافتم',\n",
       " 'یافتن',\n",
       " 'یافته',\n",
       " 'یافتی',\n",
       " 'یافتید',\n",
       " 'یافتیم',\n",
       " 'یعنی',\n",
       " 'یقینا',\n",
       " 'یه',\n",
       " 'یک',\n",
       " 'یکی',\n",
       " '۰',\n",
       " '۱',\n",
       " '۲',\n",
       " '۳',\n",
       " '۴',\n",
       " '۵',\n",
       " '۶',\n",
       " '۷',\n",
       " '۸',\n",
       " '۹',\n",
       " 'دیگران',\n",
       " 'همچنان',\n",
       " 'مدت',\n",
       " 'چیز',\n",
       " 'سایر',\n",
       " 'جا',\n",
       " 'طی',\n",
       " 'کل',\n",
       " 'کنونی',\n",
       " 'بیرون',\n",
       " 'مثلا',\n",
       " 'کامل',\n",
       " 'کاملا',\n",
       " 'آنکه',\n",
       " 'موارد',\n",
       " 'واقعی',\n",
       " 'امور',\n",
       " 'اکنون',\n",
       " 'بطور',\n",
       " 'بخشی',\n",
       " 'تحت',\n",
       " 'چگونه',\n",
       " 'عدم',\n",
       " 'نوعی',\n",
       " 'حاضر',\n",
       " 'وضع',\n",
       " 'مقابل',\n",
       " 'کنار',\n",
       " 'خویش',\n",
       " 'نگاه',\n",
       " 'درون',\n",
       " 'زمانی',\n",
       " 'بنابراین',\n",
       " 'تو',\n",
       " 'خیلی',\n",
       " 'بزرگ',\n",
       " 'خودش',\n",
       " 'جز',\n",
       " 'اینجا',\n",
       " 'مختلف',\n",
       " 'توسط',\n",
       " 'نوع',\n",
       " 'همچنین',\n",
       " 'آنجا',\n",
       " 'قبل',\n",
       " 'جناح',\n",
       " 'اینها',\n",
       " 'طور',\n",
       " 'شاید',\n",
       " 'ایشان',\n",
       " 'جهت',\n",
       " 'طریق',\n",
       " 'مانند',\n",
       " 'پیدا',\n",
       " 'ممکن',\n",
       " 'کسانی',\n",
       " 'جای',\n",
       " 'کسی',\n",
       " 'غیر',\n",
       " 'بی',\n",
       " 'قابل',\n",
       " 'درباره',\n",
       " 'جدید',\n",
       " 'وقتی',\n",
       " 'اخیر',\n",
       " 'چرا',\n",
       " 'بیش',\n",
       " 'روی',\n",
       " 'طرف',\n",
       " 'جریان',\n",
       " 'زیر',\n",
       " 'آنچه',\n",
       " 'البته',\n",
       " 'فقط',\n",
       " 'چیزی',\n",
       " 'چون',\n",
       " 'برابر',\n",
       " 'هنوز',\n",
       " 'بخش',\n",
       " 'زمینه',\n",
       " 'بین',\n",
       " 'بدون',\n",
       " 'استفاد',\n",
       " 'همان',\n",
       " 'نشان',\n",
       " 'بسیاری',\n",
       " 'بعد',\n",
       " 'عمل',\n",
       " 'روز',\n",
       " 'اعلام',\n",
       " 'چند',\n",
       " 'آنان',\n",
       " 'بلکه',\n",
       " 'امروز',\n",
       " 'تمام',\n",
       " 'بیشتر',\n",
       " 'آیا',\n",
       " 'برخی',\n",
       " 'علیه',\n",
       " 'دیگری',\n",
       " 'ویژه',\n",
       " 'گذشته',\n",
       " 'انجام',\n",
       " 'حتی',\n",
       " 'داده',\n",
       " 'راه',\n",
       " 'سوی',\n",
       " 'ولی',\n",
       " 'زمان',\n",
       " 'حال',\n",
       " 'تنها',\n",
       " 'بسیار',\n",
       " 'یعنی',\n",
       " 'عنوان',\n",
       " 'همین',\n",
       " 'هبچ',\n",
       " 'پیش',\n",
       " 'وی',\n",
       " 'یکی',\n",
       " 'اینکه',\n",
       " 'وجود',\n",
       " 'شما',\n",
       " 'پس',\n",
       " 'چنین',\n",
       " 'میان',\n",
       " 'مورد',\n",
       " 'چه',\n",
       " 'اگر',\n",
       " 'همه',\n",
       " 'نه',\n",
       " 'دیگر',\n",
       " 'آنها',\n",
       " 'باید',\n",
       " 'هر',\n",
       " 'او',\n",
       " 'ما',\n",
       " 'من',\n",
       " 'تا',\n",
       " 'نیز',\n",
       " 'اما',\n",
       " ...]"
      ]
     },
     "execution_count": 11,
     "metadata": {},
     "output_type": "execute_result"
    }
   ],
   "source": [
    "persian_sw"
   ]
  },
  {
   "cell_type": "code",
   "execution_count": 12,
   "metadata": {},
   "outputs": [
    {
     "name": "stdout",
     "output_type": "stream",
     "text": [
      "Original tweet:\n",
      " برای تمرین بیشتر برنامه‌نیوسی به صورت پروژه‌محور می‌توانید به این لینک (https://github.com/) مراجعه کنید. اینجا می‌تووونیددد پروژه‌های خودتوووون رو بذارین و مال بقیه رو هم ببینید 🎉🌟🔥\n",
      "\n",
      "Cleaned tweet (without Persian stopwords):\n",
      " تمرین برنامه‌نیوسی پروژه‌محور می‌توانید لینک (https://github.com/) مراجعه کنید. می‌تووونیددد پروژه‌های خودتوووون بذارین مال بقیه ببینید 🎉🌟🔥\n"
     ]
    }
   ],
   "source": [
    "filtered_words = [word for word in sample_tweet.split() if word not in persian_sw]\n",
    "\n",
    "\n",
    "cleaned_tweet = ' '.join(filtered_words)\n",
    "\n",
    "print(f\"Original tweet:\\n {sample_tweet}\")\n",
    "print(f\"\\nCleaned tweet (without Persian stopwords):\\n {cleaned_tweet}\")"
   ]
  },
  {
   "cell_type": "markdown",
   "metadata": {},
   "source": [
    "### <a id='toc4_1_4_'></a>[Replacing Emojis with Their Textual Equivalents](#toc0_)"
   ]
  },
  {
   "cell_type": "code",
   "execution_count": 13,
   "metadata": {},
   "outputs": [],
   "source": [
    "def demojizer(text):\n",
    "\n",
    "    demojized_tweet = emoji.demojize(text, language='fa')\n",
    "    demojized_tweet = re.sub(r\":(\\w+):\", r\" \\1 \", demojized_tweet)\n",
    "    demojized_tweet = demojized_tweet.split()\n",
    "\n",
    "    for ind, word in enumerate(demojized_tweet):\n",
    "        if '_' in word:\n",
    "            word = word.replace('_', ' ')\n",
    "            demojized_tweet[ind] = word\n",
    "\n",
    "    return ' '.join(demojized_tweet)"
   ]
  },
  {
   "cell_type": "code",
   "execution_count": 14,
   "metadata": {},
   "outputs": [],
   "source": [
    "demojized_tweet = demojizer(sample_tweet)"
   ]
  },
  {
   "cell_type": "code",
   "execution_count": 15,
   "metadata": {},
   "outputs": [
    {
     "name": "stdout",
     "output_type": "stream",
     "text": [
      "Original tweet:\n",
      " برای تمرین بیشتر برنامه‌نیوسی به صورت پروژه‌محور می‌توانید به این لینک (https://github.com/) مراجعه کنید. اینجا می‌تووونیددد پروژه‌های خودتوووون رو بذارین و مال بقیه رو هم ببینید 🎉🌟🔥\n",
      "\n",
      "Demojized tweet:\n",
      " برای تمرین بیشتر برنامه‌نیوسی به صورت پروژه‌محور می‌توانید به این لینک (https://github.com/) مراجعه کنید. اینجا می‌تووونیددد پروژه‌های خودتوووون رو بذارین و مال بقیه رو هم ببینید بمب کاغذ رنگی ستاره درخشان آتش\n"
     ]
    }
   ],
   "source": [
    "print(f\"Original tweet:\\n {sample_tweet}\")\n",
    "print(f\"\\nDemojized tweet:\\n {demojized_tweet}\")"
   ]
  },
  {
   "cell_type": "markdown",
   "metadata": {},
   "source": [
    "### <a id='toc4_1_5_'></a>[Spell Correction](#toc0_)"
   ]
  },
  {
   "cell_type": "code",
   "execution_count": 16,
   "metadata": {},
   "outputs": [],
   "source": [
    "spell_checker = SpellCheck()"
   ]
  },
  {
   "cell_type": "code",
   "execution_count": 17,
   "metadata": {},
   "outputs": [],
   "source": [
    "corrected_text = spell_checker.spell_corrector(sample_tweet)"
   ]
  },
  {
   "cell_type": "code",
   "execution_count": 18,
   "metadata": {},
   "outputs": [
    {
     "name": "stdout",
     "output_type": "stream",
     "text": [
      "Original tweet:\n",
      " برای تمرین بیشتر برنامه‌نیوسی به صورت پروژه‌محور می‌توانید به این لینک (https://github.com/) مراجعه کنید. اینجا می‌تووونیددد پروژه‌های خودتوووون رو بذارین و مال بقیه رو هم ببینید 🎉🌟🔥\n",
      "\n",
      "Spell corrected tweet:\n",
      " برای تمرین بیشتر برنامه‌نویسی به صورت پروژه محور می‌توانید به این لینک ( https :// github . com / ) مراجعه کنید . این جا می‌تووونیددد پروژه‌های خودتوووون رو بزارین و سال بقیه را هم ببینید\n"
     ]
    }
   ],
   "source": [
    "print(f\"Original tweet:\\n {sample_tweet}\")\n",
    "print(f\"\\nSpell corrected tweet:\\n {corrected_text}\")"
   ]
  },
  {
   "cell_type": "markdown",
   "metadata": {},
   "source": [
    "### <a id='toc4_1_6_'></a>[Stemming](#toc0_)"
   ]
  },
  {
   "cell_type": "code",
   "execution_count": 19,
   "metadata": {},
   "outputs": [],
   "source": [
    "stemmer = Stemmer()"
   ]
  },
  {
   "cell_type": "code",
   "execution_count": 20,
   "metadata": {},
   "outputs": [],
   "source": [
    "def apply_stemming(text):\n",
    "    words = text.split()\n",
    "    stemmed_words = []\n",
    "    \n",
    "    for word in words:\n",
    "        stemmed_word = stemmer.stem(word)\n",
    "        stemmed_words.append(stemmed_word)\n",
    "    \n",
    "    return ' '.join(stemmed_words)"
   ]
  },
  {
   "cell_type": "code",
   "execution_count": 21,
   "metadata": {},
   "outputs": [],
   "source": [
    "stemmed_tweet = apply_stemming(sample_tweet)"
   ]
  },
  {
   "cell_type": "code",
   "execution_count": 22,
   "metadata": {},
   "outputs": [
    {
     "name": "stdout",
     "output_type": "stream",
     "text": [
      "Original tweet:\n",
      " برای تمرین بیشتر برنامه‌نیوسی به صورت پروژه‌محور می‌توانید به این لینک (https://github.com/) مراجعه کنید. اینجا می‌تووونیددد پروژه‌های خودتوووون رو بذارین و مال بقیه رو هم ببینید 🎉🌟🔥\n",
      "\n",
      "Stemmed tweet:\n",
      " برا تمرین ب برنامه‌نیوس به صور پروژه‌محور می‌توانید به این لینک (https://github.com/) مراجعه کنید. اینجا می‌تووونیددد پروژه خودتوووون رو بذارین و مال بقیه رو ه ببینید 🎉🌟🔥\n"
     ]
    }
   ],
   "source": [
    "print(f\"Original tweet:\\n {sample_tweet}\")\n",
    "print(f\"\\nStemmed tweet:\\n {stemmed_tweet}\")"
   ]
  },
  {
   "cell_type": "markdown",
   "metadata": {},
   "source": [
    "## <a id='toc4_2_'></a>[Wrap Up](#toc0_)"
   ]
  },
  {
   "cell_type": "code",
   "execution_count": 23,
   "metadata": {},
   "outputs": [],
   "source": [
    "class Preprocessor:\n",
    "    def __init__(self, stemmer, spell_checker, stop_words):\n",
    "        self.stemmer = stemmer\n",
    "        self.spell_checker = spell_checker\n",
    "        self.persian_sw = stop_words\n",
    "\n",
    "    def remove_html_and_urls(self, tweet):\n",
    "        cleaned_tweet = re.sub(r'<[^<>]*>', '', tweet)\n",
    "        cleaned_tweet = re.sub(r'http\\S+', '', cleaned_tweet)\n",
    "\n",
    "        return cleaned_tweet\n",
    "\n",
    "    def remove_repetitive_characters(self, tweet):\n",
    "        words = tweet.split()\n",
    "        cleaned_words = [re.sub(r'(.)\\1+', r'\\1', word) for word in words]\n",
    "\n",
    "        return ' '.join(cleaned_words)\n",
    "\n",
    "    def remove_stopwords(self, tweet):\n",
    "        words = tweet.split()\n",
    "        filtered_words = [word for word in words if word not in self.persian_sw]\n",
    "\n",
    "        return ' '.join(filtered_words)\n",
    "\n",
    "    def demojizer(self, text):\n",
    "        demojized_tweet = emoji.demojize(text, language='fa')\n",
    "        demojized_tweet = re.sub(r\":(\\w+):\", r\" \\1 \", demojized_tweet)\n",
    "        demojized_tweet = demojized_tweet.split()\n",
    "\n",
    "        for ind, word in enumerate(demojized_tweet):\n",
    "            if '_' in word:\n",
    "                word = word.replace('_', ' ')\n",
    "                demojized_tweet[ind] = word\n",
    "\n",
    "        return ' '.join(demojized_tweet)\n",
    "\n",
    "    def correct_spellings(self, tweet):\n",
    "        return self.spell_checker.spell_corrector(tweet)\n",
    "\n",
    "    def apply_stemming(self, text):\n",
    "        words = text.split()\n",
    "        stemmed_words = [self.stemmer.stem(word) for word in words]\n",
    "\n",
    "        return ' '.join(stemmed_words)\n",
    "\n",
    "    def preprocess(self, tweet):\n",
    "        tweet = self.remove_html_and_urls(tweet)\n",
    "        tweet = self.remove_repetitive_characters(tweet)\n",
    "        tweet = self.remove_stopwords(tweet)\n",
    "        tweet = self.demojizer(tweet)\n",
    "        tweet = self.correct_spellings(tweet)\n",
    "        tweet = self.apply_stemming(tweet)\n",
    "\n",
    "        return tweet\n"
   ]
  },
  {
   "cell_type": "code",
   "execution_count": 24,
   "metadata": {},
   "outputs": [
    {
     "name": "stdout",
     "output_type": "stream",
     "text": [
      "Preprocessing have already done!\n"
     ]
    }
   ],
   "source": [
    "if not os.path.exists(PREPROC_DATA_PATH):\n",
    "    preprocessor = Preprocessor(stemmer, spell_checker, persian_sw)\n",
    "    combined_df['preprocessed_tweet'] = combined_df['tweet'].apply(preprocessor.preprocess)\n",
    "else:\n",
    "    print('Preprocessing have already done!')"
   ]
  },
  {
   "cell_type": "code",
   "execution_count": 25,
   "metadata": {},
   "outputs": [
    {
     "data": {
      "text/html": [
       "<div>\n",
       "<style scoped>\n",
       "    .dataframe tbody tr th:only-of-type {\n",
       "        vertical-align: middle;\n",
       "    }\n",
       "\n",
       "    .dataframe tbody tr th {\n",
       "        vertical-align: top;\n",
       "    }\n",
       "\n",
       "    .dataframe thead th {\n",
       "        text-align: right;\n",
       "    }\n",
       "</style>\n",
       "<table border=\"1\" class=\"dataframe\">\n",
       "  <thead>\n",
       "    <tr style=\"text-align: right;\">\n",
       "      <th></th>\n",
       "      <th>tweet</th>\n",
       "      <th>emotion</th>\n",
       "    </tr>\n",
       "  </thead>\n",
       "  <tbody>\n",
       "    <tr>\n",
       "      <th>0</th>\n",
       "      <td>ــــــــــــ\\nكرمهاي ساقه خوار\\nبه جان ريشههاي...</td>\n",
       "      <td>joy</td>\n",
       "    </tr>\n",
       "    <tr>\n",
       "      <th>1</th>\n",
       "      <td>كرمهاي ساقه خوار\\nبه جان ريشههاي انقلاب و نظام...</td>\n",
       "      <td>joy</td>\n",
       "    </tr>\n",
       "    <tr>\n",
       "      <th>2</th>\n",
       "      <td>انتخابات، واجبی هست\\nکه اگر غفلت شود فرصتی برا...</td>\n",
       "      <td>joy</td>\n",
       "    </tr>\n",
       "    <tr>\n",
       "      <th>3</th>\n",
       "      <td>ــــــــــــ👌🤞\\nكرمهاي ساقه خوار\\nبه جان ريشهه...</td>\n",
       "      <td>joy</td>\n",
       "    </tr>\n",
       "    <tr>\n",
       "      <th>4</th>\n",
       "      <td>كرمهاي ساقه خوار\\nبه جان ريشههاي انقلاب و نظام...</td>\n",
       "      <td>joy</td>\n",
       "    </tr>\n",
       "    <tr>\n",
       "      <th>...</th>\n",
       "      <td>...</td>\n",
       "      <td>...</td>\n",
       "    </tr>\n",
       "    <tr>\n",
       "      <th>113824</th>\n",
       "      <td>پرخاشگری پلیس #افغانستان؛ نیروی غیرحرفه‌ای یا ...</td>\n",
       "      <td>anger</td>\n",
       "    </tr>\n",
       "    <tr>\n",
       "      <th>113825</th>\n",
       "      <td>فروید می‌گوید: «تمدن از آنجا آغاز شد که انسان ...</td>\n",
       "      <td>anger</td>\n",
       "    </tr>\n",
       "    <tr>\n",
       "      <th>113826</th>\n",
       "      <td>#رشتو\\n۱) صبح امروز(۰۰/۰۱/۱۵) راننده خطی ایستگ...</td>\n",
       "      <td>anger</td>\n",
       "    </tr>\n",
       "    <tr>\n",
       "      <th>113827</th>\n",
       "      <td>وقتی میگیم #پالانفارسیسم ملقمه بیشعوری فروما...</td>\n",
       "      <td>anger</td>\n",
       "    </tr>\n",
       "    <tr>\n",
       "      <th>113828</th>\n",
       "      <td>یکی از مهم ترین مزیت های #كلاب_هاوس آشکارتر کر...</td>\n",
       "      <td>anger</td>\n",
       "    </tr>\n",
       "  </tbody>\n",
       "</table>\n",
       "<p>113829 rows × 2 columns</p>\n",
       "</div>"
      ],
      "text/plain": [
       "                                                    tweet emotion\n",
       "0       ــــــــــــ\\nكرمهاي ساقه خوار\\nبه جان ريشههاي...     joy\n",
       "1       كرمهاي ساقه خوار\\nبه جان ريشههاي انقلاب و نظام...     joy\n",
       "2       انتخابات، واجبی هست\\nکه اگر غفلت شود فرصتی برا...     joy\n",
       "3       ــــــــــــ👌🤞\\nكرمهاي ساقه خوار\\nبه جان ريشهه...     joy\n",
       "4       كرمهاي ساقه خوار\\nبه جان ريشههاي انقلاب و نظام...     joy\n",
       "...                                                   ...     ...\n",
       "113824  پرخاشگری پلیس #افغانستان؛ نیروی غیرحرفه‌ای یا ...   anger\n",
       "113825  فروید می‌گوید: «تمدن از آنجا آغاز شد که انسان ...   anger\n",
       "113826  #رشتو\\n۱) صبح امروز(۰۰/۰۱/۱۵) راننده خطی ایستگ...   anger\n",
       "113827    وقتی میگیم #پالانفارسیسم ملقمه بیشعوری فروما...   anger\n",
       "113828  یکی از مهم ترین مزیت های #كلاب_هاوس آشکارتر کر...   anger\n",
       "\n",
       "[113829 rows x 2 columns]"
      ]
     },
     "execution_count": 25,
     "metadata": {},
     "output_type": "execute_result"
    }
   ],
   "source": [
    "combined_df"
   ]
  },
  {
   "cell_type": "markdown",
   "metadata": {},
   "source": [
    "## <a id='toc4_3_'></a>[Saving the Preprocessed Data](#toc0_)"
   ]
  },
  {
   "cell_type": "code",
   "execution_count": 26,
   "metadata": {},
   "outputs": [
    {
     "name": "stdout",
     "output_type": "stream",
     "text": [
      "Preprocessing have already done!\n"
     ]
    }
   ],
   "source": [
    "if not os.path.exists(PREPROC_DATA_PATH):\n",
    "    preprocessed_df = combined_df[['preprocessed_tweet', 'emotion']]\n",
    "    preprocessed_df.to_csv('preprocessed_tweets.csv', index=False)\n",
    "else:\n",
    "    print('Preprocessing have already done!')"
   ]
  },
  {
   "cell_type": "markdown",
   "metadata": {},
   "source": [
    "## <a id='toc4_4_'></a>[Loading the Preprocessed Data](#toc0_)"
   ]
  },
  {
   "cell_type": "code",
   "execution_count": 27,
   "metadata": {},
   "outputs": [
    {
     "data": {
      "text/html": [
       "<div>\n",
       "<style scoped>\n",
       "    .dataframe tbody tr th:only-of-type {\n",
       "        vertical-align: middle;\n",
       "    }\n",
       "\n",
       "    .dataframe tbody tr th {\n",
       "        vertical-align: top;\n",
       "    }\n",
       "\n",
       "    .dataframe thead th {\n",
       "        text-align: right;\n",
       "    }\n",
       "</style>\n",
       "<table border=\"1\" class=\"dataframe\">\n",
       "  <thead>\n",
       "    <tr style=\"text-align: right;\">\n",
       "      <th></th>\n",
       "      <th>preprocessed_tweet</th>\n",
       "      <th>emotion</th>\n",
       "    </tr>\n",
       "  </thead>\n",
       "  <tbody>\n",
       "    <tr>\n",
       "      <th>0</th>\n",
       "      <td>کرم ساقه خوار ج ریش انقلاب نظا آسمان افتاده ان...</td>\n",
       "      <td>joy</td>\n",
       "    </tr>\n",
       "    <tr>\n",
       "      <th>1</th>\n",
       "      <td>کرم ساقه خوار ج ریش انقلاب نظا آسمان افتاده ان...</td>\n",
       "      <td>joy</td>\n",
       "    </tr>\n",
       "    <tr>\n",
       "      <th>2</th>\n",
       "      <td>انتخاب ، واجب غفل فرصت با قض نیس . مسئول ، و ب...</td>\n",
       "      <td>joy</td>\n",
       "    </tr>\n",
       "    <tr>\n",
       "      <th>3</th>\n",
       "      <td>سلام او ک انگ گره خورده کرم ساقه خوار ج ریش ان...</td>\n",
       "      <td>joy</td>\n",
       "    </tr>\n",
       "    <tr>\n",
       "      <th>4</th>\n",
       "      <td>کرم ساقه خوار ج ریش انقلاب نظا آسمان افتاده ان...</td>\n",
       "      <td>joy</td>\n",
       "    </tr>\n",
       "    <tr>\n",
       "      <th>...</th>\n",
       "      <td>...</td>\n",
       "      <td>...</td>\n",
       "    </tr>\n",
       "    <tr>\n",
       "      <th>113824</th>\n",
       "      <td>پرخاشگر پلیس # افغانس ؛ نیرو غیر حرفه گرگ تن ؟...</td>\n",
       "      <td>anger</td>\n",
       "    </tr>\n",
       "    <tr>\n",
       "      <th>113825</th>\n",
       "      <td>فروید می‌گوید : « تمدن آغاز انس سنگ ، کلمه پرت...</td>\n",
       "      <td>anger</td>\n",
       "    </tr>\n",
       "    <tr>\n",
       "      <th>113826</th>\n",
       "      <td># ر و 1 ) صبح امروز ( 0 / 01 / 15 ) را نده خط ...</td>\n",
       "      <td>anger</td>\n",
       "    </tr>\n",
       "    <tr>\n",
       "      <th>113827</th>\n",
       "      <td>م گ # پالانفارسیس ملغمه بیشعور فرومایگ شرف س پ...</td>\n",
       "      <td>anger</td>\n",
       "    </tr>\n",
       "    <tr>\n",
       "      <th>113828</th>\n",
       "      <td>مه مز # کتاب هاوس آشکار چهره مشمئزکننده دیکتات...</td>\n",
       "      <td>anger</td>\n",
       "    </tr>\n",
       "  </tbody>\n",
       "</table>\n",
       "<p>113829 rows × 2 columns</p>\n",
       "</div>"
      ],
      "text/plain": [
       "                                       preprocessed_tweet emotion\n",
       "0       کرم ساقه خوار ج ریش انقلاب نظا آسمان افتاده ان...     joy\n",
       "1       کرم ساقه خوار ج ریش انقلاب نظا آسمان افتاده ان...     joy\n",
       "2       انتخاب ، واجب غفل فرصت با قض نیس . مسئول ، و ب...     joy\n",
       "3       سلام او ک انگ گره خورده کرم ساقه خوار ج ریش ان...     joy\n",
       "4       کرم ساقه خوار ج ریش انقلاب نظا آسمان افتاده ان...     joy\n",
       "...                                                   ...     ...\n",
       "113824  پرخاشگر پلیس # افغانس ؛ نیرو غیر حرفه گرگ تن ؟...   anger\n",
       "113825  فروید می‌گوید : « تمدن آغاز انس سنگ ، کلمه پرت...   anger\n",
       "113826  # ر و 1 ) صبح امروز ( 0 / 01 / 15 ) را نده خط ...   anger\n",
       "113827  م گ # پالانفارسیس ملغمه بیشعور فرومایگ شرف س پ...   anger\n",
       "113828  مه مز # کتاب هاوس آشکار چهره مشمئزکننده دیکتات...   anger\n",
       "\n",
       "[113829 rows x 2 columns]"
      ]
     },
     "execution_count": 27,
     "metadata": {},
     "output_type": "execute_result"
    }
   ],
   "source": [
    "preprocessed_data = pd.read_csv('preprocessed_tweets.csv')\n",
    "preprocessed_data"
   ]
  },
  {
   "cell_type": "code",
   "execution_count": 28,
   "metadata": {},
   "outputs": [
    {
     "name": "stdout",
     "output_type": "stream",
     "text": [
      "Preprocessing have already done!\n"
     ]
    }
   ],
   "source": [
    "if not os.path.exists(PREPROC_DATA_PATH):\n",
    "    preprocessed_df\n",
    "else:\n",
    "    print('Preprocessing have already done!')"
   ]
  },
  {
   "cell_type": "markdown",
   "metadata": {},
   "source": [
    "# <a id='toc5_'></a>[Configuration](#toc0_)"
   ]
  },
  {
   "cell_type": "code",
   "execution_count": 29,
   "metadata": {},
   "outputs": [
    {
     "name": "stdout",
     "output_type": "stream",
     "text": [
      "device: cuda:0\n",
      "CUDA is available!  Training on GPU ...\n"
     ]
    }
   ],
   "source": [
    "device = torch.device(\"cuda:0\" if torch.cuda.is_available() else \"cpu\")\n",
    "print(f'device: {device}')\n",
    "\n",
    "train_on_gpu = torch.cuda.is_available()\n",
    "\n",
    "if not train_on_gpu:\n",
    "    print('CUDA is not available.  Training on CPU ...')\n",
    "else:\n",
    "    print('CUDA is available!  Training on GPU ...')"
   ]
  },
  {
   "cell_type": "code",
   "execution_count": 30,
   "metadata": {},
   "outputs": [],
   "source": [
    "device = \"cpu\""
   ]
  },
  {
   "cell_type": "markdown",
   "metadata": {},
   "source": [
    "## <a id='toc5_1_'></a>[Labels Extraction and Management](#toc0_)"
   ]
  },
  {
   "cell_type": "code",
   "execution_count": 31,
   "metadata": {},
   "outputs": [
    {
     "data": {
      "text/plain": [
       "array(['joy', 'fear', 'disgust', 'sad', 'surprise', 'anger'], dtype=object)"
      ]
     },
     "execution_count": 31,
     "metadata": {},
     "output_type": "execute_result"
    }
   ],
   "source": [
    "labels = preprocessed_data['emotion'].unique()\n",
    "labels"
   ]
  },
  {
   "cell_type": "code",
   "execution_count": 32,
   "metadata": {},
   "outputs": [
    {
     "name": "stdout",
     "output_type": "stream",
     "text": [
      "label2id: {'joy': 0, 'fear': 1, 'disgust': 2, 'sad': 3, 'surprise': 4, 'anger': 5}\n",
      "id2label: {0: 'joy', 1: 'fear', 2: 'disgust', 3: 'sad', 4: 'surprise', 5: 'anger'}\n"
     ]
    }
   ],
   "source": [
    "label2id = {label: i for i, label in enumerate(labels)}\n",
    "id2label = {v: k for k, v in label2id.items()}\n",
    "\n",
    "print(f'label2id: {label2id}')\n",
    "print(f'id2label: {id2label}')"
   ]
  },
  {
   "cell_type": "markdown",
   "metadata": {},
   "source": [
    "# <a id='toc6_'></a>[Feature Representation](#toc0_)"
   ]
  },
  {
   "cell_type": "markdown",
   "metadata": {},
   "source": [
    "## <a id='toc6_1_'></a>[Tokenizing Using ParsBERT](#toc0_)"
   ]
  },
  {
   "cell_type": "markdown",
   "metadata": {},
   "source": [
    "### <a id='toc6_1_1_'></a>[Tokenizing A Sample Tweet](#toc0_)"
   ]
  },
  {
   "cell_type": "code",
   "execution_count": 33,
   "metadata": {},
   "outputs": [
    {
     "name": "stderr",
     "output_type": "stream",
     "text": [
      "/home/javad/.local/lib/python3.10/site-packages/huggingface_hub/file_download.py:1132: FutureWarning: `resume_download` is deprecated and will be removed in version 1.0.0. Downloads always resume when possible. If you want to force a new download, use `force_download=True`.\n",
      "  warnings.warn(\n"
     ]
    },
    {
     "name": "stdout",
     "output_type": "stream",
     "text": [
      "['کرم', 'ساقه', 'خوار', 'ج', 'ریش', 'انقلاب', 'نظ', '##ا', 'اسمان', 'افتاده', 'اند', '؛', 'حضور', 'سبز', 'گام', 'استوار', 'انتخاب', '،', 'جشن', 'دفع', 'اف', 'استکبار', 'اس', '.', '[UNK]', 'مرد', 'مید', '[UNK]', 'را', 'میده']\n"
     ]
    }
   ],
   "source": [
    "tokenizer = AutoTokenizer.from_pretrained(\"HooshvareLab/bert-base-parsbert-uncased\")\n",
    "\n",
    "sample_tweet = preprocessed_data['preprocessed_tweet'].iloc[0]\n",
    "tokens = tokenizer.tokenize(sample_tweet)\n",
    "\n",
    "print(tokens)"
   ]
  },
  {
   "cell_type": "markdown",
   "metadata": {},
   "source": [
    "### <a id='toc6_1_2_'></a>[Tokenizing All Tweets](#toc0_)"
   ]
  },
  {
   "cell_type": "code",
   "execution_count": 34,
   "metadata": {},
   "outputs": [],
   "source": [
    "preprocessed_data['tokenized_tweet'] = preprocessed_data['preprocessed_tweet'].apply(lambda x: tokenizer.tokenize(x))"
   ]
  },
  {
   "cell_type": "markdown",
   "metadata": {},
   "source": [
    "### <a id='toc6_1_3_'></a>[Converting Tokens to Numerical Ids with Padding](#toc0_)"
   ]
  },
  {
   "cell_type": "code",
   "execution_count": 35,
   "metadata": {},
   "outputs": [],
   "source": [
    "max_length = 32"
   ]
  },
  {
   "cell_type": "code",
   "execution_count": 36,
   "metadata": {},
   "outputs": [],
   "source": [
    "def tokenize_tweets(df, col, tokenizer, max_length=max_length):\n",
    "    tokens = tokenizer.batch_encode_plus(\n",
    "        df[col].tolist(),\n",
    "        max_length=max_length,\n",
    "        padding='max_length',\n",
    "        truncation=True,\n",
    "        return_tensors='pt'\n",
    "    )\n",
    "\n",
    "    return tokens"
   ]
  },
  {
   "cell_type": "code",
   "execution_count": 37,
   "metadata": {},
   "outputs": [],
   "source": [
    "tokens = tokenize_tweets(df=preprocessed_data, col='preprocessed_tweet',\n",
    "                         tokenizer=tokenizer, max_length=max_length)"
   ]
  },
  {
   "cell_type": "code",
   "execution_count": 38,
   "metadata": {},
   "outputs": [
    {
     "data": {
      "text/plain": [
       "dict_keys(['input_ids', 'token_type_ids', 'attention_mask'])"
      ]
     },
     "execution_count": 38,
     "metadata": {},
     "output_type": "execute_result"
    }
   ],
   "source": [
    "tokens.keys()"
   ]
  },
  {
   "cell_type": "code",
   "execution_count": 39,
   "metadata": {},
   "outputs": [
    {
     "data": {
      "text/plain": [
       "tensor([[    2, 10000, 20709,  ...,  2049,  2422,     4],\n",
       "        [    2, 10000, 20709,  ...,  2049,  2422,     4],\n",
       "        [    2,  2431,   300,  ...,  2431,     1,     4],\n",
       "        ...,\n",
       "        [    2,     1,   315,  ...,  2603,  7252,     4],\n",
       "        [    2,   328,   373,  ..., 80228,  2285,     4],\n",
       "        [    2,  2687,  3700,  ..., 12520,  3080,     4]])"
      ]
     },
     "execution_count": 39,
     "metadata": {},
     "output_type": "execute_result"
    }
   ],
   "source": [
    "tokens['input_ids']"
   ]
  },
  {
   "cell_type": "code",
   "execution_count": 40,
   "metadata": {},
   "outputs": [
    {
     "data": {
      "text/plain": [
       "tensor([[0, 0, 0,  ..., 0, 0, 0],\n",
       "        [0, 0, 0,  ..., 0, 0, 0],\n",
       "        [0, 0, 0,  ..., 0, 0, 0],\n",
       "        ...,\n",
       "        [0, 0, 0,  ..., 0, 0, 0],\n",
       "        [0, 0, 0,  ..., 0, 0, 0],\n",
       "        [0, 0, 0,  ..., 0, 0, 0]])"
      ]
     },
     "execution_count": 40,
     "metadata": {},
     "output_type": "execute_result"
    }
   ],
   "source": [
    "tokens['token_type_ids']"
   ]
  },
  {
   "cell_type": "code",
   "execution_count": 41,
   "metadata": {},
   "outputs": [
    {
     "data": {
      "text/plain": [
       "tensor([[1, 1, 1,  ..., 1, 1, 1],\n",
       "        [1, 1, 1,  ..., 1, 1, 1],\n",
       "        [1, 1, 1,  ..., 1, 1, 1],\n",
       "        ...,\n",
       "        [1, 1, 1,  ..., 1, 1, 1],\n",
       "        [1, 1, 1,  ..., 1, 1, 1],\n",
       "        [1, 1, 1,  ..., 1, 1, 1]])"
      ]
     },
     "execution_count": 41,
     "metadata": {},
     "output_type": "execute_result"
    }
   ],
   "source": [
    "tokens['attention_mask']"
   ]
  },
  {
   "cell_type": "markdown",
   "metadata": {},
   "source": [
    "## <a id='toc6_2_'></a>[Embedding Using ParsBERT](#toc0_)"
   ]
  },
  {
   "cell_type": "markdown",
   "metadata": {},
   "source": [
    "### <a id='toc6_2_1_'></a>[Default Embedding Vector Size](#toc0_)"
   ]
  },
  {
   "cell_type": "code",
   "execution_count": 42,
   "metadata": {},
   "outputs": [
    {
     "name": "stderr",
     "output_type": "stream",
     "text": [
      "/home/javad/.local/lib/python3.10/site-packages/huggingface_hub/file_download.py:1132: FutureWarning: `resume_download` is deprecated and will be removed in version 1.0.0. Downloads always resume when possible. If you want to force a new download, use `force_download=True`.\n",
      "  warnings.warn(\n"
     ]
    },
    {
     "name": "stdout",
     "output_type": "stream",
     "text": [
      "Default embedding vector size: 768\n"
     ]
    }
   ],
   "source": [
    "config = AutoConfig.from_pretrained(\"HooshvareLab/bert-base-parsbert-uncased\")\n",
    "\n",
    "print(f\"Default embedding vector size: {config.hidden_size}\")"
   ]
  },
  {
   "cell_type": "markdown",
   "metadata": {},
   "source": [
    "### <a id='toc6_2_2_'></a>[Loading the Model and Adjusting the Embedding Vector Size](#toc0_)"
   ]
  },
  {
   "cell_type": "code",
   "execution_count": 43,
   "metadata": {},
   "outputs": [
    {
     "name": "stderr",
     "output_type": "stream",
     "text": [
      "Some weights of BertModel were not initialized from the model checkpoint at HooshvareLab/bert-base-parsbert-uncased and are newly initialized because the shapes did not match:\n",
      "- bert.embeddings.word_embeddings.weight: found shape torch.Size([100000, 768]) in the checkpoint and torch.Size([100000, 120]) in the model instantiated\n",
      "- bert.embeddings.position_embeddings.weight: found shape torch.Size([512, 768]) in the checkpoint and torch.Size([512, 120]) in the model instantiated\n",
      "- bert.embeddings.token_type_embeddings.weight: found shape torch.Size([2, 768]) in the checkpoint and torch.Size([2, 120]) in the model instantiated\n",
      "- bert.embeddings.LayerNorm.weight: found shape torch.Size([768]) in the checkpoint and torch.Size([120]) in the model instantiated\n",
      "- bert.embeddings.LayerNorm.bias: found shape torch.Size([768]) in the checkpoint and torch.Size([120]) in the model instantiated\n",
      "- bert.encoder.layer.0.attention.self.query.weight: found shape torch.Size([768, 768]) in the checkpoint and torch.Size([120, 120]) in the model instantiated\n",
      "- bert.encoder.layer.0.attention.self.query.bias: found shape torch.Size([768]) in the checkpoint and torch.Size([120]) in the model instantiated\n",
      "- bert.encoder.layer.0.attention.self.key.weight: found shape torch.Size([768, 768]) in the checkpoint and torch.Size([120, 120]) in the model instantiated\n",
      "- bert.encoder.layer.0.attention.self.key.bias: found shape torch.Size([768]) in the checkpoint and torch.Size([120]) in the model instantiated\n",
      "- bert.encoder.layer.0.attention.self.value.weight: found shape torch.Size([768, 768]) in the checkpoint and torch.Size([120, 120]) in the model instantiated\n",
      "- bert.encoder.layer.0.attention.self.value.bias: found shape torch.Size([768]) in the checkpoint and torch.Size([120]) in the model instantiated\n",
      "- bert.encoder.layer.0.attention.output.dense.weight: found shape torch.Size([768, 768]) in the checkpoint and torch.Size([120, 120]) in the model instantiated\n",
      "- bert.encoder.layer.0.attention.output.dense.bias: found shape torch.Size([768]) in the checkpoint and torch.Size([120]) in the model instantiated\n",
      "- bert.encoder.layer.0.attention.output.LayerNorm.weight: found shape torch.Size([768]) in the checkpoint and torch.Size([120]) in the model instantiated\n",
      "- bert.encoder.layer.0.attention.output.LayerNorm.bias: found shape torch.Size([768]) in the checkpoint and torch.Size([120]) in the model instantiated\n",
      "- bert.encoder.layer.0.intermediate.dense.weight: found shape torch.Size([3072, 768]) in the checkpoint and torch.Size([3072, 120]) in the model instantiated\n",
      "- bert.encoder.layer.0.output.dense.weight: found shape torch.Size([768, 3072]) in the checkpoint and torch.Size([120, 3072]) in the model instantiated\n",
      "- bert.encoder.layer.0.output.dense.bias: found shape torch.Size([768]) in the checkpoint and torch.Size([120]) in the model instantiated\n",
      "- bert.encoder.layer.0.output.LayerNorm.weight: found shape torch.Size([768]) in the checkpoint and torch.Size([120]) in the model instantiated\n",
      "- bert.encoder.layer.0.output.LayerNorm.bias: found shape torch.Size([768]) in the checkpoint and torch.Size([120]) in the model instantiated\n",
      "- bert.encoder.layer.1.attention.self.query.weight: found shape torch.Size([768, 768]) in the checkpoint and torch.Size([120, 120]) in the model instantiated\n",
      "- bert.encoder.layer.1.attention.self.query.bias: found shape torch.Size([768]) in the checkpoint and torch.Size([120]) in the model instantiated\n",
      "- bert.encoder.layer.1.attention.self.key.weight: found shape torch.Size([768, 768]) in the checkpoint and torch.Size([120, 120]) in the model instantiated\n",
      "- bert.encoder.layer.1.attention.self.key.bias: found shape torch.Size([768]) in the checkpoint and torch.Size([120]) in the model instantiated\n",
      "- bert.encoder.layer.1.attention.self.value.weight: found shape torch.Size([768, 768]) in the checkpoint and torch.Size([120, 120]) in the model instantiated\n",
      "- bert.encoder.layer.1.attention.self.value.bias: found shape torch.Size([768]) in the checkpoint and torch.Size([120]) in the model instantiated\n",
      "- bert.encoder.layer.1.attention.output.dense.weight: found shape torch.Size([768, 768]) in the checkpoint and torch.Size([120, 120]) in the model instantiated\n",
      "- bert.encoder.layer.1.attention.output.dense.bias: found shape torch.Size([768]) in the checkpoint and torch.Size([120]) in the model instantiated\n",
      "- bert.encoder.layer.1.attention.output.LayerNorm.weight: found shape torch.Size([768]) in the checkpoint and torch.Size([120]) in the model instantiated\n",
      "- bert.encoder.layer.1.attention.output.LayerNorm.bias: found shape torch.Size([768]) in the checkpoint and torch.Size([120]) in the model instantiated\n",
      "- bert.encoder.layer.1.intermediate.dense.weight: found shape torch.Size([3072, 768]) in the checkpoint and torch.Size([3072, 120]) in the model instantiated\n",
      "- bert.encoder.layer.1.output.dense.weight: found shape torch.Size([768, 3072]) in the checkpoint and torch.Size([120, 3072]) in the model instantiated\n",
      "- bert.encoder.layer.1.output.dense.bias: found shape torch.Size([768]) in the checkpoint and torch.Size([120]) in the model instantiated\n",
      "- bert.encoder.layer.1.output.LayerNorm.weight: found shape torch.Size([768]) in the checkpoint and torch.Size([120]) in the model instantiated\n",
      "- bert.encoder.layer.1.output.LayerNorm.bias: found shape torch.Size([768]) in the checkpoint and torch.Size([120]) in the model instantiated\n",
      "- bert.encoder.layer.2.attention.self.query.weight: found shape torch.Size([768, 768]) in the checkpoint and torch.Size([120, 120]) in the model instantiated\n",
      "- bert.encoder.layer.2.attention.self.query.bias: found shape torch.Size([768]) in the checkpoint and torch.Size([120]) in the model instantiated\n",
      "- bert.encoder.layer.2.attention.self.key.weight: found shape torch.Size([768, 768]) in the checkpoint and torch.Size([120, 120]) in the model instantiated\n",
      "- bert.encoder.layer.2.attention.self.key.bias: found shape torch.Size([768]) in the checkpoint and torch.Size([120]) in the model instantiated\n",
      "- bert.encoder.layer.2.attention.self.value.weight: found shape torch.Size([768, 768]) in the checkpoint and torch.Size([120, 120]) in the model instantiated\n",
      "- bert.encoder.layer.2.attention.self.value.bias: found shape torch.Size([768]) in the checkpoint and torch.Size([120]) in the model instantiated\n",
      "- bert.encoder.layer.2.attention.output.dense.weight: found shape torch.Size([768, 768]) in the checkpoint and torch.Size([120, 120]) in the model instantiated\n",
      "- bert.encoder.layer.2.attention.output.dense.bias: found shape torch.Size([768]) in the checkpoint and torch.Size([120]) in the model instantiated\n",
      "- bert.encoder.layer.2.attention.output.LayerNorm.weight: found shape torch.Size([768]) in the checkpoint and torch.Size([120]) in the model instantiated\n",
      "- bert.encoder.layer.2.attention.output.LayerNorm.bias: found shape torch.Size([768]) in the checkpoint and torch.Size([120]) in the model instantiated\n",
      "- bert.encoder.layer.2.intermediate.dense.weight: found shape torch.Size([3072, 768]) in the checkpoint and torch.Size([3072, 120]) in the model instantiated\n",
      "- bert.encoder.layer.2.output.dense.weight: found shape torch.Size([768, 3072]) in the checkpoint and torch.Size([120, 3072]) in the model instantiated\n",
      "- bert.encoder.layer.2.output.dense.bias: found shape torch.Size([768]) in the checkpoint and torch.Size([120]) in the model instantiated\n",
      "- bert.encoder.layer.2.output.LayerNorm.weight: found shape torch.Size([768]) in the checkpoint and torch.Size([120]) in the model instantiated\n",
      "- bert.encoder.layer.2.output.LayerNorm.bias: found shape torch.Size([768]) in the checkpoint and torch.Size([120]) in the model instantiated\n",
      "- bert.encoder.layer.3.attention.self.query.weight: found shape torch.Size([768, 768]) in the checkpoint and torch.Size([120, 120]) in the model instantiated\n",
      "- bert.encoder.layer.3.attention.self.query.bias: found shape torch.Size([768]) in the checkpoint and torch.Size([120]) in the model instantiated\n",
      "- bert.encoder.layer.3.attention.self.key.weight: found shape torch.Size([768, 768]) in the checkpoint and torch.Size([120, 120]) in the model instantiated\n",
      "- bert.encoder.layer.3.attention.self.key.bias: found shape torch.Size([768]) in the checkpoint and torch.Size([120]) in the model instantiated\n",
      "- bert.encoder.layer.3.attention.self.value.weight: found shape torch.Size([768, 768]) in the checkpoint and torch.Size([120, 120]) in the model instantiated\n",
      "- bert.encoder.layer.3.attention.self.value.bias: found shape torch.Size([768]) in the checkpoint and torch.Size([120]) in the model instantiated\n",
      "- bert.encoder.layer.3.attention.output.dense.weight: found shape torch.Size([768, 768]) in the checkpoint and torch.Size([120, 120]) in the model instantiated\n",
      "- bert.encoder.layer.3.attention.output.dense.bias: found shape torch.Size([768]) in the checkpoint and torch.Size([120]) in the model instantiated\n",
      "- bert.encoder.layer.3.attention.output.LayerNorm.weight: found shape torch.Size([768]) in the checkpoint and torch.Size([120]) in the model instantiated\n",
      "- bert.encoder.layer.3.attention.output.LayerNorm.bias: found shape torch.Size([768]) in the checkpoint and torch.Size([120]) in the model instantiated\n",
      "- bert.encoder.layer.3.intermediate.dense.weight: found shape torch.Size([3072, 768]) in the checkpoint and torch.Size([3072, 120]) in the model instantiated\n",
      "- bert.encoder.layer.3.output.dense.weight: found shape torch.Size([768, 3072]) in the checkpoint and torch.Size([120, 3072]) in the model instantiated\n",
      "- bert.encoder.layer.3.output.dense.bias: found shape torch.Size([768]) in the checkpoint and torch.Size([120]) in the model instantiated\n",
      "- bert.encoder.layer.3.output.LayerNorm.weight: found shape torch.Size([768]) in the checkpoint and torch.Size([120]) in the model instantiated\n",
      "- bert.encoder.layer.3.output.LayerNorm.bias: found shape torch.Size([768]) in the checkpoint and torch.Size([120]) in the model instantiated\n",
      "- bert.encoder.layer.4.attention.self.query.weight: found shape torch.Size([768, 768]) in the checkpoint and torch.Size([120, 120]) in the model instantiated\n",
      "- bert.encoder.layer.4.attention.self.query.bias: found shape torch.Size([768]) in the checkpoint and torch.Size([120]) in the model instantiated\n",
      "- bert.encoder.layer.4.attention.self.key.weight: found shape torch.Size([768, 768]) in the checkpoint and torch.Size([120, 120]) in the model instantiated\n",
      "- bert.encoder.layer.4.attention.self.key.bias: found shape torch.Size([768]) in the checkpoint and torch.Size([120]) in the model instantiated\n",
      "- bert.encoder.layer.4.attention.self.value.weight: found shape torch.Size([768, 768]) in the checkpoint and torch.Size([120, 120]) in the model instantiated\n",
      "- bert.encoder.layer.4.attention.self.value.bias: found shape torch.Size([768]) in the checkpoint and torch.Size([120]) in the model instantiated\n",
      "- bert.encoder.layer.4.attention.output.dense.weight: found shape torch.Size([768, 768]) in the checkpoint and torch.Size([120, 120]) in the model instantiated\n",
      "- bert.encoder.layer.4.attention.output.dense.bias: found shape torch.Size([768]) in the checkpoint and torch.Size([120]) in the model instantiated\n",
      "- bert.encoder.layer.4.attention.output.LayerNorm.weight: found shape torch.Size([768]) in the checkpoint and torch.Size([120]) in the model instantiated\n",
      "- bert.encoder.layer.4.attention.output.LayerNorm.bias: found shape torch.Size([768]) in the checkpoint and torch.Size([120]) in the model instantiated\n",
      "- bert.encoder.layer.4.intermediate.dense.weight: found shape torch.Size([3072, 768]) in the checkpoint and torch.Size([3072, 120]) in the model instantiated\n",
      "- bert.encoder.layer.4.output.dense.weight: found shape torch.Size([768, 3072]) in the checkpoint and torch.Size([120, 3072]) in the model instantiated\n",
      "- bert.encoder.layer.4.output.dense.bias: found shape torch.Size([768]) in the checkpoint and torch.Size([120]) in the model instantiated\n",
      "- bert.encoder.layer.4.output.LayerNorm.weight: found shape torch.Size([768]) in the checkpoint and torch.Size([120]) in the model instantiated\n",
      "- bert.encoder.layer.4.output.LayerNorm.bias: found shape torch.Size([768]) in the checkpoint and torch.Size([120]) in the model instantiated\n",
      "- bert.encoder.layer.5.attention.self.query.weight: found shape torch.Size([768, 768]) in the checkpoint and torch.Size([120, 120]) in the model instantiated\n",
      "- bert.encoder.layer.5.attention.self.query.bias: found shape torch.Size([768]) in the checkpoint and torch.Size([120]) in the model instantiated\n",
      "- bert.encoder.layer.5.attention.self.key.weight: found shape torch.Size([768, 768]) in the checkpoint and torch.Size([120, 120]) in the model instantiated\n",
      "- bert.encoder.layer.5.attention.self.key.bias: found shape torch.Size([768]) in the checkpoint and torch.Size([120]) in the model instantiated\n",
      "- bert.encoder.layer.5.attention.self.value.weight: found shape torch.Size([768, 768]) in the checkpoint and torch.Size([120, 120]) in the model instantiated\n",
      "- bert.encoder.layer.5.attention.self.value.bias: found shape torch.Size([768]) in the checkpoint and torch.Size([120]) in the model instantiated\n",
      "- bert.encoder.layer.5.attention.output.dense.weight: found shape torch.Size([768, 768]) in the checkpoint and torch.Size([120, 120]) in the model instantiated\n",
      "- bert.encoder.layer.5.attention.output.dense.bias: found shape torch.Size([768]) in the checkpoint and torch.Size([120]) in the model instantiated\n",
      "- bert.encoder.layer.5.attention.output.LayerNorm.weight: found shape torch.Size([768]) in the checkpoint and torch.Size([120]) in the model instantiated\n",
      "- bert.encoder.layer.5.attention.output.LayerNorm.bias: found shape torch.Size([768]) in the checkpoint and torch.Size([120]) in the model instantiated\n",
      "- bert.encoder.layer.5.intermediate.dense.weight: found shape torch.Size([3072, 768]) in the checkpoint and torch.Size([3072, 120]) in the model instantiated\n",
      "- bert.encoder.layer.5.output.dense.weight: found shape torch.Size([768, 3072]) in the checkpoint and torch.Size([120, 3072]) in the model instantiated\n",
      "- bert.encoder.layer.5.output.dense.bias: found shape torch.Size([768]) in the checkpoint and torch.Size([120]) in the model instantiated\n",
      "- bert.encoder.layer.5.output.LayerNorm.weight: found shape torch.Size([768]) in the checkpoint and torch.Size([120]) in the model instantiated\n",
      "- bert.encoder.layer.5.output.LayerNorm.bias: found shape torch.Size([768]) in the checkpoint and torch.Size([120]) in the model instantiated\n",
      "- bert.encoder.layer.6.attention.self.query.weight: found shape torch.Size([768, 768]) in the checkpoint and torch.Size([120, 120]) in the model instantiated\n",
      "- bert.encoder.layer.6.attention.self.query.bias: found shape torch.Size([768]) in the checkpoint and torch.Size([120]) in the model instantiated\n",
      "- bert.encoder.layer.6.attention.self.key.weight: found shape torch.Size([768, 768]) in the checkpoint and torch.Size([120, 120]) in the model instantiated\n",
      "- bert.encoder.layer.6.attention.self.key.bias: found shape torch.Size([768]) in the checkpoint and torch.Size([120]) in the model instantiated\n",
      "- bert.encoder.layer.6.attention.self.value.weight: found shape torch.Size([768, 768]) in the checkpoint and torch.Size([120, 120]) in the model instantiated\n",
      "- bert.encoder.layer.6.attention.self.value.bias: found shape torch.Size([768]) in the checkpoint and torch.Size([120]) in the model instantiated\n",
      "- bert.encoder.layer.6.attention.output.dense.weight: found shape torch.Size([768, 768]) in the checkpoint and torch.Size([120, 120]) in the model instantiated\n",
      "- bert.encoder.layer.6.attention.output.dense.bias: found shape torch.Size([768]) in the checkpoint and torch.Size([120]) in the model instantiated\n",
      "- bert.encoder.layer.6.attention.output.LayerNorm.weight: found shape torch.Size([768]) in the checkpoint and torch.Size([120]) in the model instantiated\n",
      "- bert.encoder.layer.6.attention.output.LayerNorm.bias: found shape torch.Size([768]) in the checkpoint and torch.Size([120]) in the model instantiated\n",
      "- bert.encoder.layer.6.intermediate.dense.weight: found shape torch.Size([3072, 768]) in the checkpoint and torch.Size([3072, 120]) in the model instantiated\n",
      "- bert.encoder.layer.6.output.dense.weight: found shape torch.Size([768, 3072]) in the checkpoint and torch.Size([120, 3072]) in the model instantiated\n",
      "- bert.encoder.layer.6.output.dense.bias: found shape torch.Size([768]) in the checkpoint and torch.Size([120]) in the model instantiated\n",
      "- bert.encoder.layer.6.output.LayerNorm.weight: found shape torch.Size([768]) in the checkpoint and torch.Size([120]) in the model instantiated\n",
      "- bert.encoder.layer.6.output.LayerNorm.bias: found shape torch.Size([768]) in the checkpoint and torch.Size([120]) in the model instantiated\n",
      "- bert.encoder.layer.7.attention.self.query.weight: found shape torch.Size([768, 768]) in the checkpoint and torch.Size([120, 120]) in the model instantiated\n",
      "- bert.encoder.layer.7.attention.self.query.bias: found shape torch.Size([768]) in the checkpoint and torch.Size([120]) in the model instantiated\n",
      "- bert.encoder.layer.7.attention.self.key.weight: found shape torch.Size([768, 768]) in the checkpoint and torch.Size([120, 120]) in the model instantiated\n",
      "- bert.encoder.layer.7.attention.self.key.bias: found shape torch.Size([768]) in the checkpoint and torch.Size([120]) in the model instantiated\n",
      "- bert.encoder.layer.7.attention.self.value.weight: found shape torch.Size([768, 768]) in the checkpoint and torch.Size([120, 120]) in the model instantiated\n",
      "- bert.encoder.layer.7.attention.self.value.bias: found shape torch.Size([768]) in the checkpoint and torch.Size([120]) in the model instantiated\n",
      "- bert.encoder.layer.7.attention.output.dense.weight: found shape torch.Size([768, 768]) in the checkpoint and torch.Size([120, 120]) in the model instantiated\n",
      "- bert.encoder.layer.7.attention.output.dense.bias: found shape torch.Size([768]) in the checkpoint and torch.Size([120]) in the model instantiated\n",
      "- bert.encoder.layer.7.attention.output.LayerNorm.weight: found shape torch.Size([768]) in the checkpoint and torch.Size([120]) in the model instantiated\n",
      "- bert.encoder.layer.7.attention.output.LayerNorm.bias: found shape torch.Size([768]) in the checkpoint and torch.Size([120]) in the model instantiated\n",
      "- bert.encoder.layer.7.intermediate.dense.weight: found shape torch.Size([3072, 768]) in the checkpoint and torch.Size([3072, 120]) in the model instantiated\n",
      "- bert.encoder.layer.7.output.dense.weight: found shape torch.Size([768, 3072]) in the checkpoint and torch.Size([120, 3072]) in the model instantiated\n",
      "- bert.encoder.layer.7.output.dense.bias: found shape torch.Size([768]) in the checkpoint and torch.Size([120]) in the model instantiated\n",
      "- bert.encoder.layer.7.output.LayerNorm.weight: found shape torch.Size([768]) in the checkpoint and torch.Size([120]) in the model instantiated\n",
      "- bert.encoder.layer.7.output.LayerNorm.bias: found shape torch.Size([768]) in the checkpoint and torch.Size([120]) in the model instantiated\n",
      "- bert.encoder.layer.8.attention.self.query.weight: found shape torch.Size([768, 768]) in the checkpoint and torch.Size([120, 120]) in the model instantiated\n",
      "- bert.encoder.layer.8.attention.self.query.bias: found shape torch.Size([768]) in the checkpoint and torch.Size([120]) in the model instantiated\n",
      "- bert.encoder.layer.8.attention.self.key.weight: found shape torch.Size([768, 768]) in the checkpoint and torch.Size([120, 120]) in the model instantiated\n",
      "- bert.encoder.layer.8.attention.self.key.bias: found shape torch.Size([768]) in the checkpoint and torch.Size([120]) in the model instantiated\n",
      "- bert.encoder.layer.8.attention.self.value.weight: found shape torch.Size([768, 768]) in the checkpoint and torch.Size([120, 120]) in the model instantiated\n",
      "- bert.encoder.layer.8.attention.self.value.bias: found shape torch.Size([768]) in the checkpoint and torch.Size([120]) in the model instantiated\n",
      "- bert.encoder.layer.8.attention.output.dense.weight: found shape torch.Size([768, 768]) in the checkpoint and torch.Size([120, 120]) in the model instantiated\n",
      "- bert.encoder.layer.8.attention.output.dense.bias: found shape torch.Size([768]) in the checkpoint and torch.Size([120]) in the model instantiated\n",
      "- bert.encoder.layer.8.attention.output.LayerNorm.weight: found shape torch.Size([768]) in the checkpoint and torch.Size([120]) in the model instantiated\n",
      "- bert.encoder.layer.8.attention.output.LayerNorm.bias: found shape torch.Size([768]) in the checkpoint and torch.Size([120]) in the model instantiated\n",
      "- bert.encoder.layer.8.intermediate.dense.weight: found shape torch.Size([3072, 768]) in the checkpoint and torch.Size([3072, 120]) in the model instantiated\n",
      "- bert.encoder.layer.8.output.dense.weight: found shape torch.Size([768, 3072]) in the checkpoint and torch.Size([120, 3072]) in the model instantiated\n",
      "- bert.encoder.layer.8.output.dense.bias: found shape torch.Size([768]) in the checkpoint and torch.Size([120]) in the model instantiated\n",
      "- bert.encoder.layer.8.output.LayerNorm.weight: found shape torch.Size([768]) in the checkpoint and torch.Size([120]) in the model instantiated\n",
      "- bert.encoder.layer.8.output.LayerNorm.bias: found shape torch.Size([768]) in the checkpoint and torch.Size([120]) in the model instantiated\n",
      "- bert.encoder.layer.9.attention.self.query.weight: found shape torch.Size([768, 768]) in the checkpoint and torch.Size([120, 120]) in the model instantiated\n",
      "- bert.encoder.layer.9.attention.self.query.bias: found shape torch.Size([768]) in the checkpoint and torch.Size([120]) in the model instantiated\n",
      "- bert.encoder.layer.9.attention.self.key.weight: found shape torch.Size([768, 768]) in the checkpoint and torch.Size([120, 120]) in the model instantiated\n",
      "- bert.encoder.layer.9.attention.self.key.bias: found shape torch.Size([768]) in the checkpoint and torch.Size([120]) in the model instantiated\n",
      "- bert.encoder.layer.9.attention.self.value.weight: found shape torch.Size([768, 768]) in the checkpoint and torch.Size([120, 120]) in the model instantiated\n",
      "- bert.encoder.layer.9.attention.self.value.bias: found shape torch.Size([768]) in the checkpoint and torch.Size([120]) in the model instantiated\n",
      "- bert.encoder.layer.9.attention.output.dense.weight: found shape torch.Size([768, 768]) in the checkpoint and torch.Size([120, 120]) in the model instantiated\n",
      "- bert.encoder.layer.9.attention.output.dense.bias: found shape torch.Size([768]) in the checkpoint and torch.Size([120]) in the model instantiated\n",
      "- bert.encoder.layer.9.attention.output.LayerNorm.weight: found shape torch.Size([768]) in the checkpoint and torch.Size([120]) in the model instantiated\n",
      "- bert.encoder.layer.9.attention.output.LayerNorm.bias: found shape torch.Size([768]) in the checkpoint and torch.Size([120]) in the model instantiated\n",
      "- bert.encoder.layer.9.intermediate.dense.weight: found shape torch.Size([3072, 768]) in the checkpoint and torch.Size([3072, 120]) in the model instantiated\n",
      "- bert.encoder.layer.9.output.dense.weight: found shape torch.Size([768, 3072]) in the checkpoint and torch.Size([120, 3072]) in the model instantiated\n",
      "- bert.encoder.layer.9.output.dense.bias: found shape torch.Size([768]) in the checkpoint and torch.Size([120]) in the model instantiated\n",
      "- bert.encoder.layer.9.output.LayerNorm.weight: found shape torch.Size([768]) in the checkpoint and torch.Size([120]) in the model instantiated\n",
      "- bert.encoder.layer.9.output.LayerNorm.bias: found shape torch.Size([768]) in the checkpoint and torch.Size([120]) in the model instantiated\n",
      "- bert.encoder.layer.10.attention.self.query.weight: found shape torch.Size([768, 768]) in the checkpoint and torch.Size([120, 120]) in the model instantiated\n",
      "- bert.encoder.layer.10.attention.self.query.bias: found shape torch.Size([768]) in the checkpoint and torch.Size([120]) in the model instantiated\n",
      "- bert.encoder.layer.10.attention.self.key.weight: found shape torch.Size([768, 768]) in the checkpoint and torch.Size([120, 120]) in the model instantiated\n",
      "- bert.encoder.layer.10.attention.self.key.bias: found shape torch.Size([768]) in the checkpoint and torch.Size([120]) in the model instantiated\n",
      "- bert.encoder.layer.10.attention.self.value.weight: found shape torch.Size([768, 768]) in the checkpoint and torch.Size([120, 120]) in the model instantiated\n",
      "- bert.encoder.layer.10.attention.self.value.bias: found shape torch.Size([768]) in the checkpoint and torch.Size([120]) in the model instantiated\n",
      "- bert.encoder.layer.10.attention.output.dense.weight: found shape torch.Size([768, 768]) in the checkpoint and torch.Size([120, 120]) in the model instantiated\n",
      "- bert.encoder.layer.10.attention.output.dense.bias: found shape torch.Size([768]) in the checkpoint and torch.Size([120]) in the model instantiated\n",
      "- bert.encoder.layer.10.attention.output.LayerNorm.weight: found shape torch.Size([768]) in the checkpoint and torch.Size([120]) in the model instantiated\n",
      "- bert.encoder.layer.10.attention.output.LayerNorm.bias: found shape torch.Size([768]) in the checkpoint and torch.Size([120]) in the model instantiated\n",
      "- bert.encoder.layer.10.intermediate.dense.weight: found shape torch.Size([3072, 768]) in the checkpoint and torch.Size([3072, 120]) in the model instantiated\n",
      "- bert.encoder.layer.10.output.dense.weight: found shape torch.Size([768, 3072]) in the checkpoint and torch.Size([120, 3072]) in the model instantiated\n",
      "- bert.encoder.layer.10.output.dense.bias: found shape torch.Size([768]) in the checkpoint and torch.Size([120]) in the model instantiated\n",
      "- bert.encoder.layer.10.output.LayerNorm.weight: found shape torch.Size([768]) in the checkpoint and torch.Size([120]) in the model instantiated\n",
      "- bert.encoder.layer.10.output.LayerNorm.bias: found shape torch.Size([768]) in the checkpoint and torch.Size([120]) in the model instantiated\n",
      "- bert.encoder.layer.11.attention.self.query.weight: found shape torch.Size([768, 768]) in the checkpoint and torch.Size([120, 120]) in the model instantiated\n",
      "- bert.encoder.layer.11.attention.self.query.bias: found shape torch.Size([768]) in the checkpoint and torch.Size([120]) in the model instantiated\n",
      "- bert.encoder.layer.11.attention.self.key.weight: found shape torch.Size([768, 768]) in the checkpoint and torch.Size([120, 120]) in the model instantiated\n",
      "- bert.encoder.layer.11.attention.self.key.bias: found shape torch.Size([768]) in the checkpoint and torch.Size([120]) in the model instantiated\n",
      "- bert.encoder.layer.11.attention.self.value.weight: found shape torch.Size([768, 768]) in the checkpoint and torch.Size([120, 120]) in the model instantiated\n",
      "- bert.encoder.layer.11.attention.self.value.bias: found shape torch.Size([768]) in the checkpoint and torch.Size([120]) in the model instantiated\n",
      "- bert.encoder.layer.11.attention.output.dense.weight: found shape torch.Size([768, 768]) in the checkpoint and torch.Size([120, 120]) in the model instantiated\n",
      "- bert.encoder.layer.11.attention.output.dense.bias: found shape torch.Size([768]) in the checkpoint and torch.Size([120]) in the model instantiated\n",
      "- bert.encoder.layer.11.attention.output.LayerNorm.weight: found shape torch.Size([768]) in the checkpoint and torch.Size([120]) in the model instantiated\n",
      "- bert.encoder.layer.11.attention.output.LayerNorm.bias: found shape torch.Size([768]) in the checkpoint and torch.Size([120]) in the model instantiated\n",
      "- bert.encoder.layer.11.intermediate.dense.weight: found shape torch.Size([3072, 768]) in the checkpoint and torch.Size([3072, 120]) in the model instantiated\n",
      "- bert.encoder.layer.11.output.dense.weight: found shape torch.Size([768, 3072]) in the checkpoint and torch.Size([120, 3072]) in the model instantiated\n",
      "- bert.encoder.layer.11.output.dense.bias: found shape torch.Size([768]) in the checkpoint and torch.Size([120]) in the model instantiated\n",
      "- bert.encoder.layer.11.output.LayerNorm.weight: found shape torch.Size([768]) in the checkpoint and torch.Size([120]) in the model instantiated\n",
      "- bert.encoder.layer.11.output.LayerNorm.bias: found shape torch.Size([768]) in the checkpoint and torch.Size([120]) in the model instantiated\n",
      "- bert.pooler.dense.weight: found shape torch.Size([768, 768]) in the checkpoint and torch.Size([120, 120]) in the model instantiated\n",
      "- bert.pooler.dense.bias: found shape torch.Size([768]) in the checkpoint and torch.Size([120]) in the model instantiated\n",
      "You should probably TRAIN this model on a down-stream task to be able to use it for predictions and inference.\n"
     ]
    },
    {
     "data": {
      "text/plain": [
       "BertModel(\n",
       "  (embeddings): BertEmbeddings(\n",
       "    (word_embeddings): Embedding(100000, 120, padding_idx=0)\n",
       "    (position_embeddings): Embedding(512, 120)\n",
       "    (token_type_embeddings): Embedding(2, 120)\n",
       "    (LayerNorm): LayerNorm((120,), eps=1e-12, elementwise_affine=True)\n",
       "    (dropout): Dropout(p=0.1, inplace=False)\n",
       "  )\n",
       "  (encoder): BertEncoder(\n",
       "    (layer): ModuleList(\n",
       "      (0-11): 12 x BertLayer(\n",
       "        (attention): BertAttention(\n",
       "          (self): BertSdpaSelfAttention(\n",
       "            (query): Linear(in_features=120, out_features=120, bias=True)\n",
       "            (key): Linear(in_features=120, out_features=120, bias=True)\n",
       "            (value): Linear(in_features=120, out_features=120, bias=True)\n",
       "            (dropout): Dropout(p=0.1, inplace=False)\n",
       "          )\n",
       "          (output): BertSelfOutput(\n",
       "            (dense): Linear(in_features=120, out_features=120, bias=True)\n",
       "            (LayerNorm): LayerNorm((120,), eps=1e-12, elementwise_affine=True)\n",
       "            (dropout): Dropout(p=0.1, inplace=False)\n",
       "          )\n",
       "        )\n",
       "        (intermediate): BertIntermediate(\n",
       "          (dense): Linear(in_features=120, out_features=3072, bias=True)\n",
       "          (intermediate_act_fn): GELUActivation()\n",
       "        )\n",
       "        (output): BertOutput(\n",
       "          (dense): Linear(in_features=3072, out_features=120, bias=True)\n",
       "          (LayerNorm): LayerNorm((120,), eps=1e-12, elementwise_affine=True)\n",
       "          (dropout): Dropout(p=0.1, inplace=False)\n",
       "        )\n",
       "      )\n",
       "    )\n",
       "  )\n",
       "  (pooler): BertPooler(\n",
       "    (dense): Linear(in_features=120, out_features=120, bias=True)\n",
       "    (activation): Tanh()\n",
       "  )\n",
       ")"
      ]
     },
     "execution_count": 43,
     "metadata": {},
     "output_type": "execute_result"
    }
   ],
   "source": [
    "config.hidden_size = 120\n",
    "\n",
    "model = AutoModel.from_pretrained(\"HooshvareLab/bert-base-parsbert-uncased\", config=config,\n",
    "                                  ignore_mismatched_sizes=True)\n",
    "model.to(device)"
   ]
  },
  {
   "cell_type": "code",
   "execution_count": 44,
   "metadata": {},
   "outputs": [],
   "source": [
    "chunk_size = 1000\n",
    "\n",
    "total_samples = len(preprocessed_data)\n",
    "\n",
    "all_embeddings = []"
   ]
  },
  {
   "cell_type": "code",
   "execution_count": 45,
   "metadata": {},
   "outputs": [],
   "source": [
    "for i in range(0, total_samples, chunk_size):\n",
    "    chunk = preprocessed_data[i:i+chunk_size]\n",
    "\n",
    "    tokens = tokenize_tweets(df=chunk, col='preprocessed_tweet', tokenizer=tokenizer, max_length=max_length)\n",
    "\n",
    "    with torch.no_grad():\n",
    "        outputs = model(tokens['input_ids'].to(device), attention_mask=tokens['attention_mask'].to(device))\n",
    "        embeddings = outputs.last_hidden_state\n",
    "\n",
    "    all_embeddings.append(embeddings)\n",
    "\n",
    "    gc.collect()"
   ]
  },
  {
   "cell_type": "code",
   "execution_count": 46,
   "metadata": {},
   "outputs": [
    {
     "data": {
      "text/plain": [
       "tensor([[[ 0.4971, -0.7276,  0.9489,  ..., -0.5860, -0.3827,  0.0680],\n",
       "         [-0.7805,  0.4492,  0.4129,  ...,  1.3416,  0.2323,  0.3303],\n",
       "         [-0.7817,  0.5793,  2.1158,  ...,  1.0192,  0.1531,  0.7978],\n",
       "         ...,\n",
       "         [ 0.5830, -0.8681,  0.7460,  ...,  0.4656, -1.7747,  0.6180],\n",
       "         [ 1.0554, -0.6751,  0.7082,  ...,  1.4857,  0.4241, -1.1130],\n",
       "         [ 0.4141, -1.3672,  0.4554,  ...,  1.3373, -0.5169, -1.7581]],\n",
       "\n",
       "        [[ 0.4971, -0.7276,  0.9489,  ..., -0.5860, -0.3827,  0.0680],\n",
       "         [-0.7805,  0.4492,  0.4129,  ...,  1.3416,  0.2323,  0.3303],\n",
       "         [-0.7817,  0.5793,  2.1158,  ...,  1.0192,  0.1531,  0.7978],\n",
       "         ...,\n",
       "         [ 0.5830, -0.8681,  0.7460,  ...,  0.4656, -1.7747,  0.6180],\n",
       "         [ 1.0554, -0.6751,  0.7082,  ...,  1.4857,  0.4241, -1.1130],\n",
       "         [ 0.4141, -1.3672,  0.4554,  ...,  1.3373, -0.5169, -1.7581]],\n",
       "\n",
       "        [[ 0.4662, -0.6685,  0.9515,  ..., -0.5917, -0.3810,  0.0845],\n",
       "         [-1.2930, -0.8785, -0.0468,  ...,  0.0409,  0.3794,  1.0604],\n",
       "         [-2.1907,  0.5860,  1.3891,  ...,  1.9599, -0.8997,  1.2687],\n",
       "         ...,\n",
       "         [-1.6504, -1.0375,  0.3566,  ...,  0.4938, -0.7072,  1.0191],\n",
       "         [ 0.7762, -0.9285, -0.5990,  ...,  1.2849, -0.5153,  0.4842],\n",
       "         [ 0.3788, -1.3127,  0.4573,  ...,  1.3318, -0.5156, -1.7387]],\n",
       "\n",
       "        ...,\n",
       "\n",
       "        [[ 0.4828, -0.6936,  0.9192,  ..., -0.5890, -0.3726,  0.0860],\n",
       "         [ 0.5567, -0.3868, -0.4876,  ...,  1.1449, -0.1668,  1.5542],\n",
       "         [-0.4524,  0.1893,  0.3444,  ...,  0.5177, -0.3478,  0.1466],\n",
       "         ...,\n",
       "         [-1.1086, -0.1019,  0.3344,  ...,  2.1618, -0.8351,  1.3688],\n",
       "         [ 0.6609, -0.0030, -0.3335,  ...,  1.1857, -0.7027,  0.0427],\n",
       "         [ 0.4009, -1.3354,  0.4199,  ...,  1.3364, -0.5052, -1.7470]],\n",
       "\n",
       "        [[ 0.4827, -0.6941,  0.9247,  ..., -0.5947, -0.3373,  0.1083],\n",
       "         [-0.3491, -0.2339,  0.6156,  ...,  1.6229,  0.8307,  0.4588],\n",
       "         [-2.4883,  1.3578,  0.7551,  ...,  1.3383, -0.0607,  2.0133],\n",
       "         ...,\n",
       "         [-0.8300,  0.1657,  1.0847,  ...,  1.5664,  0.0644,  1.3182],\n",
       "         [-0.2101, -1.1359,  0.3471,  ...,  1.5317, -0.3042, -0.3091],\n",
       "         [ 0.4022, -1.3357,  0.4282,  ...,  1.3312, -0.4695, -1.7255]],\n",
       "\n",
       "        [[ 0.5128, -0.6763,  0.9160,  ..., -0.5824, -0.3648,  0.0612],\n",
       "         [-0.6620, -0.4169,  0.3858,  ...,  0.8881, -0.1798,  0.6886],\n",
       "         [-0.9756,  0.5756,  0.1344,  ...,  1.2788, -0.2351,  0.4116],\n",
       "         ...,\n",
       "         [-0.3981, -0.3821,  0.7061,  ...,  0.5454, -1.9486,  1.4192],\n",
       "         [ 0.8005, -0.9193,  0.0836,  ...,  1.6214,  0.0735, -0.8949],\n",
       "         [ 0.4330, -1.3139,  0.4181,  ...,  1.3388, -0.4962, -1.7642]]])"
      ]
     },
     "execution_count": 46,
     "metadata": {},
     "output_type": "execute_result"
    }
   ],
   "source": [
    "all_embeddings = torch.cat(all_embeddings, dim=0)\n",
    "\n",
    "all_embeddings"
   ]
  },
  {
   "cell_type": "code",
   "execution_count": 47,
   "metadata": {},
   "outputs": [
    {
     "data": {
      "text/plain": [
       "torch.Size([113829, 32, 120])"
      ]
     },
     "execution_count": 47,
     "metadata": {},
     "output_type": "execute_result"
    }
   ],
   "source": [
    "all_embeddings.shape"
   ]
  },
  {
   "cell_type": "markdown",
   "metadata": {},
   "source": [
    "# <a id='toc7_'></a>[Splitting into Train, Validation, and Test](#toc0_)"
   ]
  },
  {
   "cell_type": "code",
   "execution_count": 48,
   "metadata": {},
   "outputs": [],
   "source": [
    "labels_num = preprocessed_data['emotion'].apply(lambda x: label2id[x])\n",
    "\n",
    "X_train, X_test, y_train, y_test = train_test_split(all_embeddings, labels_num, test_size=0.3, random_state=42)\n",
    "\n",
    "X_train, X_val, y_train, y_val = train_test_split(X_train, y_train, test_size=0.2, random_state=42)"
   ]
  },
  {
   "cell_type": "code",
   "execution_count": 60,
   "metadata": {},
   "outputs": [],
   "source": [
    "y_train = torch.tensor(y_train.values)\n",
    "y_val = torch.tensor(y_val.values)"
   ]
  },
  {
   "cell_type": "markdown",
   "metadata": {},
   "source": [
    "# <a id='toc8_'></a>[Models Architecture](#toc0_)"
   ]
  },
  {
   "cell_type": "markdown",
   "metadata": {},
   "source": [
    "## <a id='toc8_1_'></a>[CNN-LSTM](#toc0_)"
   ]
  },
  {
   "cell_type": "code",
   "execution_count": 49,
   "metadata": {},
   "outputs": [],
   "source": [
    "class CNNTweetClassifier(nn.Module):\n",
    "    def __init__(self, embedding_dim, num_classes):\n",
    "        super(CNNTweetClassifier, self).__init__()\n",
    "\n",
    "        self.conv1 = nn.Conv1d(embedding_dim, 32, kernel_size=3, padding=1)\n",
    "        self.maxpool = nn.MaxPool1d(kernel_size=2)\n",
    "        self.lstm = nn.LSTM(32, 32, batch_first=True)\n",
    "        self.dropout = nn.Dropout(p=0.1)\n",
    "        self.fc = nn.Linear(32, num_classes)\n",
    "        \n",
    "    def forward(self, x):\n",
    "        x = x.permute(0, 2, 1)  # swap dimensions to (batch_size, embedding_dim, sequence_length)\n",
    "        x = self.conv1(x)\n",
    "        x = self.maxpool(x)\n",
    "        x, _ = self.lstm(x.permute(0, 2, 1))  # swap dimensions back to (batch_size, sequence_length, embedding_dim)\n",
    "        x = self.dropout(x)\n",
    "        x = self.fc(x[:, -1, :])  # use the last LSTM output for the Dense layer\n",
    "        return x"
   ]
  },
  {
   "cell_type": "code",
   "execution_count": 50,
   "metadata": {},
   "outputs": [],
   "source": [
    "# Instantiate the model\n",
    "cnn_lstm_model = CNNTweetClassifier(embedding_dim=120, num_classes=len(label2id))"
   ]
  },
  {
   "cell_type": "markdown",
   "metadata": {},
   "source": [
    "## <a id='toc8_2_'></a>[CNN](#toc0_)"
   ]
  },
  {
   "cell_type": "code",
   "execution_count": 78,
   "metadata": {},
   "outputs": [],
   "source": [
    "class CNNTweetClassifier(nn.Module):\n",
    "    def __init__(self, embedding_dim, num_classes):\n",
    "        super(CNNTweetClassifier, self).__init__()\n",
    "        \n",
    "        self.conv1 = nn.Conv1d(embedding_dim, 32, kernel_size=3, padding=1)\n",
    "        self.maxpool = nn.MaxPool1d(kernel_size=2)\n",
    "        self.dropout = nn.Dropout(p=0.1)\n",
    "        self.fc = nn.Linear(32*16, num_classes)  # Adjust the input size here\n",
    "        \n",
    "    def forward(self, x):\n",
    "        x = x.permute(0, 2, 1)  # swap dimensions to (batch_size, embedding_dim, sequence_length)\n",
    "        x = self.conv1(x)\n",
    "        x = self.maxpool(x)\n",
    "        x = x.view(x.size(0), -1)  # Flatten the output\n",
    "        x = self.dropout(x)\n",
    "        x = self.fc(x)  # No need to select the last output here\n",
    "        return x\n"
   ]
  },
  {
   "cell_type": "code",
   "execution_count": 79,
   "metadata": {},
   "outputs": [],
   "source": [
    "cnn_model = CNNTweetClassifier(embedding_dim=120, num_classes=len(label2id))"
   ]
  },
  {
   "cell_type": "markdown",
   "metadata": {},
   "source": [
    "## <a id='toc8_3_'></a>[LSTM](#toc0_)"
   ]
  },
  {
   "cell_type": "code",
   "execution_count": 53,
   "metadata": {},
   "outputs": [],
   "source": [
    "class LSTMTweetClassifier(nn.Module):\n",
    "    def __init__(self, embedding_dim, hidden_dim, num_classes):\n",
    "        super(LSTMTweetClassifier, self).__init__()\n",
    "        \n",
    "        self.lstm = nn.LSTM(embedding_dim, hidden_dim, batch_first=True)\n",
    "        self.dropout = nn.Dropout(p=0.1)\n",
    "        self.fc = nn.Linear(hidden_dim, num_classes)\n",
    "        \n",
    "    def forward(self, x):\n",
    "        x, _ = self.lstm(x)  # LSTM input is (batch_size, sequence_length, embedding_dim)\n",
    "        x = self.dropout(x)\n",
    "        x = self.fc(x[:, -1, :])  # use the last LSTM output for the Dense layer\n",
    "        return x"
   ]
  },
  {
   "cell_type": "code",
   "execution_count": 54,
   "metadata": {},
   "outputs": [],
   "source": [
    "lstm_model = LSTMTweetClassifier(embedding_dim=120, hidden_dim=32, num_classes=len(label2id))"
   ]
  },
  {
   "cell_type": "markdown",
   "metadata": {},
   "source": [
    "# <a id='toc9_'></a>[Greed Search for Hyperparameters Tunning](#toc0_)"
   ]
  },
  {
   "cell_type": "code",
   "execution_count": 57,
   "metadata": {},
   "outputs": [],
   "source": [
    "batch_sizes = [8, 64]\n",
    "learning_rates = [0.001, 0.0001]\n",
    "optimizers = [Adam, SGD]\n",
    "epochs = 10\n",
    "\n",
    "best_val_acc = 0\n",
    "best_hyperparams = {}"
   ]
  },
  {
   "cell_type": "code",
   "execution_count": 62,
   "metadata": {},
   "outputs": [],
   "source": [
    "for batch_size in batch_sizes:\n",
    "    for learning_rate in learning_rates:\n",
    "        for optimizer in optimizers:\n",
    "            if optimizer == Adam:\n",
    "                opt = Adam(model.parameters(), lr=learning_rate)\n",
    "            elif optimizer == SGD:\n",
    "                opt = SGD(model.parameters(), lr=learning_rate)\n",
    "\n",
    "            loss_fn = CrossEntropyLoss()\n",
    "\n",
    "            for epoch in range(epochs):\n",
    "                for i in range(0, len(X_train), batch_size):\n",
    "                    inputs = X_train[i:i+batch_size]\n",
    "                    labels = y_train[i:i+batch_size]\n",
    "\n",
    "                    outputs = cnn_lstm_model(inputs)\n",
    "                    loss = loss_fn(outputs, labels)\n",
    "\n",
    "                    opt.zero_grad()\n",
    "                    loss.backward()\n",
    "                    opt.step()\n",
    "\n",
    "                val_preds, val_labels = [], []\n",
    "                with torch.no_grad():\n",
    "                    for i in range(0, len(X_val), batch_size):\n",
    "                        inputs = X_val[i:i+batch_size]\n",
    "                        labels = y_val[i:i+batch_size]\n",
    "                        outputs = cnn_lstm_model(inputs)\n",
    "                        _, preds = torch.max(outputs, 1)\n",
    "                        val_preds.extend(preds.tolist())\n",
    "                        val_labels.extend(labels.tolist())\n",
    "\n",
    "                val_acc = accuracy_score(val_labels, val_preds)\n",
    "\n",
    "                if val_acc > best_val_acc:\n",
    "                    best_val_acc = val_acc\n",
    "                    best_hyperparams = {'batch_size': batch_size, 'learning_rate': learning_rate, 'optimizer': optimizer}"
   ]
  },
  {
   "cell_type": "code",
   "execution_count": 66,
   "metadata": {},
   "outputs": [],
   "source": [
    "def greed_search(model, epochs):\n",
    "    best_val_acc = 0\n",
    "    best_hyperparams = {}\n",
    "\n",
    "    for batch_size in batch_sizes:\n",
    "        for learning_rate in learning_rates:\n",
    "            for optimizer in optimizers:\n",
    "                if optimizer == Adam:\n",
    "                    opt = Adam(model.parameters(), lr=learning_rate)\n",
    "                elif optimizer == SGD:\n",
    "                    opt = SGD(model.parameters(), lr=learning_rate)\n",
    "\n",
    "                loss_fn = CrossEntropyLoss()\n",
    "\n",
    "                for epoch in range(epochs):\n",
    "                    for i in range(0, len(X_train), batch_size):\n",
    "                        inputs = X_train[i:i+batch_size]\n",
    "                        labels = y_train[i:i+batch_size]\n",
    "\n",
    "                        outputs = model(inputs)\n",
    "                        loss = loss_fn(outputs, labels)\n",
    "\n",
    "                        opt.zero_grad()\n",
    "                        loss.backward()\n",
    "                        opt.step()\n",
    "\n",
    "                    val_preds, val_labels = [], []\n",
    "\n",
    "                    with torch.no_grad():\n",
    "                        for i in range(0, len(X_val), batch_size):\n",
    "                            inputs = X_val[i:i+batch_size]\n",
    "                            labels = y_val[i:i+batch_size]\n",
    "                            outputs = model(inputs)\n",
    "                            _, preds = torch.max(outputs, 1)\n",
    "                            val_preds.extend(preds.tolist())\n",
    "                            val_labels.extend(labels.tolist())\n",
    "\n",
    "                    val_acc = accuracy_score(val_labels, val_preds)\n",
    "\n",
    "                    if val_acc > best_val_acc:\n",
    "                        best_val_acc = val_acc\n",
    "                        best_hyperparams = {'batch_size': batch_size, 'learning_rate': learning_rate, 'optimizer': optimizer}\n",
    "    \n",
    "    return best_val_acc, best_hyperparams"
   ]
  },
  {
   "cell_type": "code",
   "execution_count": 67,
   "metadata": {},
   "outputs": [],
   "source": [
    "best_val_acc, best_hyperparams = greed_search(cnn_lstm_model, epochs)"
   ]
  },
  {
   "cell_type": "code",
   "execution_count": 68,
   "metadata": {},
   "outputs": [
    {
     "name": "stdout",
     "output_type": "stream",
     "text": [
      "Best validation accuracy: 0.6655371485943775\n",
      "Best hyperparameters: {'batch_size': 64, 'learning_rate': 0.0001, 'optimizer': <class 'torch.optim.sgd.SGD'>}\n"
     ]
    }
   ],
   "source": [
    "print(f'Best validation accuracy: {best_val_acc}')\n",
    "print(f'Best hyperparameters: {best_hyperparams}')"
   ]
  },
  {
   "cell_type": "markdown",
   "metadata": {},
   "source": [
    "# <a id='toc10_'></a>[Training All Models](#toc0_)"
   ]
  },
  {
   "cell_type": "code",
   "execution_count": 71,
   "metadata": {},
   "outputs": [],
   "source": [
    "def train_model(model, X_train, y_train, X_val, y_val, best_hyperparams, epochs):\n",
    "\n",
    "    opt = SGD(model.parameters(), lr=best_hyperparams['learning_rate'])\n",
    "\n",
    "    loss_fn = CrossEntropyLoss()\n",
    "\n",
    "    train_losses, train_accuracies = [], []\n",
    "    val_losses, val_accuracies = [], []\n",
    "\n",
    "    for epoch in range(epochs):\n",
    "        # Training loop\n",
    "        train_preds, train_labels = [], []\n",
    "        for i in range(0, len(X_train), best_hyperparams['batch_size']):\n",
    "            inputs = X_train[i:i+best_hyperparams['batch_size']]\n",
    "            labels = y_train[i:i+best_hyperparams['batch_size']]\n",
    "\n",
    "            # Forward pass\n",
    "            outputs = model(inputs)\n",
    "            loss = loss_fn(outputs, labels)\n",
    "\n",
    "            # Backward pass and optimization\n",
    "            opt.zero_grad()\n",
    "            loss.backward()\n",
    "            opt.step()\n",
    "\n",
    "            _, preds = torch.max(outputs, 1)\n",
    "            train_preds.extend(preds.tolist())\n",
    "            train_labels.extend(labels.tolist())\n",
    "\n",
    "        # Calculate training loss and accuracy\n",
    "        train_loss = loss.item()\n",
    "        train_acc = accuracy_score(train_labels, train_preds)\n",
    "\n",
    "        # Validation loop\n",
    "        val_preds, val_labels = [], []\n",
    "        with torch.no_grad():\n",
    "            for i in range(0, len(X_val), best_hyperparams['batch_size']):\n",
    "                inputs = X_val[i:i+best_hyperparams['batch_size']]\n",
    "                labels = y_val[i:i+best_hyperparams['batch_size']]\n",
    "                outputs = model(inputs)\n",
    "                loss = loss_fn(outputs, labels)\n",
    "                _, preds = torch.max(outputs, 1)\n",
    "                val_preds.extend(preds.tolist())\n",
    "                val_labels.extend(labels.tolist())\n",
    "\n",
    "        # Calculate validation loss and accuracy\n",
    "        val_loss = loss.item()\n",
    "        val_acc = accuracy_score(val_labels, val_preds)\n",
    "\n",
    "        # Save loss and accuracy values\n",
    "        train_losses.append(train_loss)\n",
    "        train_accuracies.append(train_acc)\n",
    "        val_losses.append(val_loss)\n",
    "        val_accuracies.append(val_acc)\n",
    "\n",
    "    return train_losses, train_accuracies, val_losses, val_accuracies\n"
   ]
  },
  {
   "cell_type": "markdown",
   "metadata": {},
   "source": [
    "## <a id='toc10_1_'></a>[CNN-LSTM](#toc0_)"
   ]
  },
  {
   "cell_type": "code",
   "execution_count": 72,
   "metadata": {},
   "outputs": [],
   "source": [
    "cl_train_losses, cl_train_accuracies, cl_val_losses, cl_val_accuracies = train_model(cnn_lstm_model, X_train, y_train,\n",
    "                                                                         X_val, y_val, best_hyperparams, epochs)"
   ]
  },
  {
   "cell_type": "markdown",
   "metadata": {},
   "source": [
    "## <a id='toc10_2_'></a>[CNN](#toc0_)"
   ]
  },
  {
   "cell_type": "code",
   "execution_count": 80,
   "metadata": {},
   "outputs": [],
   "source": [
    "c_train_losses, c_train_accuracies, c_val_losses, c_val_accuracies = train_model(cnn_model, X_train, y_train,\n",
    "                                                                         X_val, y_val, best_hyperparams, epochs)"
   ]
  },
  {
   "cell_type": "markdown",
   "metadata": {},
   "source": [
    "## <a id='toc10_3_'></a>[LSTM](#toc0_)"
   ]
  },
  {
   "cell_type": "code",
   "execution_count": 74,
   "metadata": {},
   "outputs": [],
   "source": [
    "l_train_losses, l_train_accuracies, l_val_losses, l_val_accuracies = train_model(lstm_model, X_train, y_train,\n",
    "                                                                         X_val, y_val, best_hyperparams, epochs)"
   ]
  },
  {
   "cell_type": "code",
   "execution_count": 75,
   "metadata": {},
   "outputs": [],
   "source": [
    "def plot_metrics(train_losses, train_accuracies, val_losses, val_accuracies):\n",
    "    epochs = range(1, len(train_losses) + 1)\n",
    "\n",
    "    plt.figure(figsize=(12, 5))\n",
    "\n",
    "    plt.subplot(1, 2, 1)\n",
    "    plt.plot(epochs, train_losses, 'b', label='Training loss')\n",
    "    plt.plot(epochs, val_losses, 'r', label='Validation loss')\n",
    "    plt.title('Training and Validation Loss')\n",
    "    plt.xlabel('Epochs')\n",
    "    plt.ylabel('Loss')\n",
    "    plt.legend()\n",
    "\n",
    "    plt.subplot(1, 2, 2)\n",
    "    plt.plot(epochs, train_accuracies, 'b', label='Training accuracy')\n",
    "    plt.plot(epochs, val_accuracies, 'r', label='Validation accuracy')\n",
    "    plt.title('Training and Validation Accuracy')\n",
    "    plt.xlabel('Epochs')\n",
    "    plt.ylabel('Accuracy')\n",
    "    plt.legend()\n",
    "\n",
    "    plt.tight_layout()\n",
    "    plt.show()"
   ]
  },
  {
   "cell_type": "markdown",
   "metadata": {},
   "source": [
    "## <a id='toc10_4_'></a>[Learning Curve Visualization](#toc0_)"
   ]
  },
  {
   "cell_type": "markdown",
   "metadata": {},
   "source": [
    "### <a id='toc10_4_1_'></a>[CNN-LSTM](#toc0_)"
   ]
  },
  {
   "cell_type": "code",
   "execution_count": 76,
   "metadata": {},
   "outputs": [
    {
     "data": {
      "image/png": "[encoded data removed]",
      "text/plain": [
       "<Figure size 864x360 with 2 Axes>"
      ]
     },
     "metadata": {},
     "output_type": "display_data"
    }
   ],
   "source": [
    "plot_metrics(cl_train_losses, cl_train_accuracies, cl_val_losses, cl_val_accuracies)"
   ]
  },
  {
   "cell_type": "markdown",
   "metadata": {},
   "source": [
    "### <a id='toc10_4_2_'></a>[CNN](#toc0_)"
   ]
  },
  {
   "cell_type": "code",
   "execution_count": 81,
   "metadata": {},
   "outputs": [
    {
     "data": {
      "image/png": "[encoded data removed]",
      "text/plain": [
       "<Figure size 864x360 with 2 Axes>"
      ]
     },
     "metadata": {},
     "output_type": "display_data"
    }
   ],
   "source": [
    "plot_metrics(c_train_losses, c_train_accuracies, c_val_losses, c_val_accuracies)"
   ]
  },
  {
   "cell_type": "markdown",
   "metadata": {},
   "source": [
    "### <a id='toc10_4_3_'></a>[LSTM](#toc0_)"
   ]
  },
  {
   "cell_type": "code",
   "execution_count": 77,
   "metadata": {},
   "outputs": [
    {
     "data": {
      "image/png": "[encoded data removed]",
      "text/plain": [
       "<Figure size 864x360 with 2 Axes>"
      ]
     },
     "metadata": {},
     "output_type": "display_data"
    }
   ],
   "source": [
    "plot_metrics(l_train_losses, l_train_accuracies, l_val_losses, l_val_accuracies)"
   ]
  },
  {
   "cell_type": "markdown",
   "metadata": {},
   "source": [
    "# <a id='toc11_'></a>[Evaluation](#toc0_)"
   ]
  },
  {
   "cell_type": "code",
   "execution_count": 82,
   "metadata": {},
   "outputs": [],
   "source": [
    "def predict(model, X_test, batch_size):\n",
    "    test_preds = []\n",
    "\n",
    "    with torch.no_grad():\n",
    "        for i in range(0, len(X_test), batch_size):\n",
    "            inputs = X_test[i:i+batch_size]\n",
    "            outputs = model(inputs)\n",
    "            _, preds = torch.max(outputs, 1)\n",
    "            test_preds.extend(preds.tolist())\n",
    "\n",
    "    return test_preds"
   ]
  },
  {
   "cell_type": "code",
   "execution_count": 87,
   "metadata": {},
   "outputs": [],
   "source": [
    "def evaluate_model(model, X_test, y_test, batch_size):\n",
    "    test_preds = predict(model, X_test, batch_size)\n",
    "\n",
    "    test_preds_labels = [id2label[pred] for pred in test_preds]\n",
    "    y_test_labels = [id2label[label] for label in y_test.tolist()]\n",
    "\n",
    "    report = classification_report(y_test_labels, test_preds_labels, output_dict=True)\n",
    "    report_df = pd.DataFrame(report).transpose()\n",
    "    print(tabulate(report_df, headers='keys', tablefmt='psql'))"
   ]
  },
  {
   "cell_type": "code",
   "execution_count": 90,
   "metadata": {},
   "outputs": [
    {
     "name": "stdout",
     "output_type": "stream",
     "text": [
      "CNN-LSTM Model:\n"
     ]
    },
    {
     "name": "stderr",
     "output_type": "stream",
     "text": [
      "/home/javad/.local/lib/python3.10/site-packages/sklearn/metrics/_classification.py:1509: UndefinedMetricWarning: Precision is ill-defined and being set to 0.0 in labels with no predicted samples. Use `zero_division` parameter to control this behavior.\n",
      "  _warn_prf(average, modifier, f\"{metric.capitalize()} is\", len(result))\n",
      "/home/javad/.local/lib/python3.10/site-packages/sklearn/metrics/_classification.py:1509: UndefinedMetricWarning: Precision is ill-defined and being set to 0.0 in labels with no predicted samples. Use `zero_division` parameter to control this behavior.\n",
      "  _warn_prf(average, modifier, f\"{metric.capitalize()} is\", len(result))\n",
      "/home/javad/.local/lib/python3.10/site-packages/sklearn/metrics/_classification.py:1509: UndefinedMetricWarning: Precision is ill-defined and being set to 0.0 in labels with no predicted samples. Use `zero_division` parameter to control this behavior.\n",
      "  _warn_prf(average, modifier, f\"{metric.capitalize()} is\", len(result))\n"
     ]
    },
    {
     "name": "stdout",
     "output_type": "stream",
     "text": [
      "+--------------+-------------+----------+------------+--------------+\n",
      "|              |   precision |   recall |   f1-score |      support |\n",
      "|--------------+-------------+----------+------------+--------------|\n",
      "| anger        |    0.76364  | 0.680551 |   0.719705 |  5882        |\n",
      "| disgust      |    0        | 0        |   0        |   277        |\n",
      "| fear         |    0.800382 | 0.620281 |   0.698916 |  5404        |\n",
      "| joy          |    0.847209 | 0.731142 |   0.784908 |  8365        |\n",
      "| sad          |    0.54872  | 0.814797 |   0.655798 | 10367        |\n",
      "| surprise     |    0.376543 | 0.20576  |   0.266107 |  3854        |\n",
      "| accuracy     |    0.665056 | 0.665056 |   0.665056 |     0.665056 |\n",
      "| macro avg    |    0.556082 | 0.508755 |   0.520906 | 34149        |\n",
      "| weighted avg |    0.674798 | 0.665056 |   0.655956 | 34149        |\n",
      "+--------------+-------------+----------+------------+--------------+\n",
      "\n",
      "CNN Model:\n"
     ]
    },
    {
     "name": "stderr",
     "output_type": "stream",
     "text": [
      "/home/javad/.local/lib/python3.10/site-packages/sklearn/metrics/_classification.py:1509: UndefinedMetricWarning: Precision is ill-defined and being set to 0.0 in labels with no predicted samples. Use `zero_division` parameter to control this behavior.\n",
      "  _warn_prf(average, modifier, f\"{metric.capitalize()} is\", len(result))\n",
      "/home/javad/.local/lib/python3.10/site-packages/sklearn/metrics/_classification.py:1509: UndefinedMetricWarning: Precision is ill-defined and being set to 0.0 in labels with no predicted samples. Use `zero_division` parameter to control this behavior.\n",
      "  _warn_prf(average, modifier, f\"{metric.capitalize()} is\", len(result))\n",
      "/home/javad/.local/lib/python3.10/site-packages/sklearn/metrics/_classification.py:1509: UndefinedMetricWarning: Precision is ill-defined and being set to 0.0 in labels with no predicted samples. Use `zero_division` parameter to control this behavior.\n",
      "  _warn_prf(average, modifier, f\"{metric.capitalize()} is\", len(result))\n"
     ]
    },
    {
     "name": "stdout",
     "output_type": "stream",
     "text": [
      "+--------------+-------------+------------+------------+--------------+\n",
      "|              |   precision |     recall |   f1-score |      support |\n",
      "|--------------+-------------+------------+------------+--------------|\n",
      "| anger        |    0.199005 | 0.0136008  | 0.0254615  |  5882        |\n",
      "| disgust      |    0        | 0          | 0          |   277        |\n",
      "| fear         |    0.122222 | 0.00203553 | 0.00400437 |  5404        |\n",
      "| joy          |    0.274743 | 0.239928   | 0.256158   |  8365        |\n",
      "| sad          |    0.307605 | 0.781904   | 0.441515   | 10367        |\n",
      "| surprise     |    0        | 0          | 0          |  3854        |\n",
      "| accuracy     |    0.298808 | 0.298808   | 0.298808   |     0.298808 |\n",
      "| macro avg    |    0.150596 | 0.172911   | 0.12119    | 34149        |\n",
      "| weighted avg |    0.214302 | 0.298808   | 0.201803   | 34149        |\n",
      "+--------------+-------------+------------+------------+--------------+\n",
      "\n",
      "LSTM Model:\n",
      "+--------------+-------------+----------+------------+-------------+\n",
      "|              |   precision |   recall |   f1-score |     support |\n",
      "|--------------+-------------+----------+------------+-------------|\n",
      "| anger        |   0         | 0        |  0         |  5882       |\n",
      "| disgust      |   0         | 0        |  0         |   277       |\n",
      "| fear         |   0         | 0        |  0         |  5404       |\n",
      "| joy          |   0.226553  | 0.044471 |  0.074348  |  8365       |\n",
      "| sad          |   0.303676  | 0.952156 |  0.460487  | 10367       |\n",
      "| surprise     |   0         | 0        |  0         |  3854       |\n",
      "| accuracy     |   0.29995   | 0.29995  |  0.29995   |     0.29995 |\n",
      "| macro avg    |   0.0883716 | 0.166104 |  0.0891392 | 34149       |\n",
      "| weighted avg |   0.147686  | 0.29995  |  0.158007  | 34149       |\n",
      "+--------------+-------------+----------+------------+-------------+\n"
     ]
    },
    {
     "name": "stderr",
     "output_type": "stream",
     "text": [
      "/home/javad/.local/lib/python3.10/site-packages/sklearn/metrics/_classification.py:1509: UndefinedMetricWarning: Precision is ill-defined and being set to 0.0 in labels with no predicted samples. Use `zero_division` parameter to control this behavior.\n",
      "  _warn_prf(average, modifier, f\"{metric.capitalize()} is\", len(result))\n",
      "/home/javad/.local/lib/python3.10/site-packages/sklearn/metrics/_classification.py:1509: UndefinedMetricWarning: Precision is ill-defined and being set to 0.0 in labels with no predicted samples. Use `zero_division` parameter to control this behavior.\n",
      "  _warn_prf(average, modifier, f\"{metric.capitalize()} is\", len(result))\n",
      "/home/javad/.local/lib/python3.10/site-packages/sklearn/metrics/_classification.py:1509: UndefinedMetricWarning: Precision is ill-defined and being set to 0.0 in labels with no predicted samples. Use `zero_division` parameter to control this behavior.\n",
      "  _warn_prf(average, modifier, f\"{metric.capitalize()} is\", len(result))\n"
     ]
    }
   ],
   "source": [
    "print(\"CNN-LSTM Model:\")\n",
    "evaluate_model(cnn_lstm_model, X_test, y_test, best_hyperparams['batch_size'])\n",
    "\n",
    "print(\"\\nCNN Model:\")\n",
    "evaluate_model(cnn_model, X_test, y_test, best_hyperparams['batch_size'])\n",
    "\n",
    "print(\"\\nLSTM Model:\")\n",
    "evaluate_model(lstm_model, X_test, y_test, best_hyperparams['batch_size'])"
   ]
  }
 ],
 "metadata": {
  "kernelspec": {
   "display_name": "Python 3",
   "language": "python",
   "name": "python3"
  },
  "language_info": {
   "codemirror_mode": {
    "name": "ipython",
    "version": 3
   },
   "file_extension": ".py",
   "mimetype": "text/x-python",
   "name": "python",
   "nbconvert_exporter": "python",
   "pygments_lexer": "ipython3",
   "version": "3.10.12"
  }
 },
 "nbformat": 4,
 "nbformat_minor": 2
}
